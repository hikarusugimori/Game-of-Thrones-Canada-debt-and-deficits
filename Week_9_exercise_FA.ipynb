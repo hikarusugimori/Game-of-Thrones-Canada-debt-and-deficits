{
 "cells": [
  {
   "cell_type": "markdown",
   "metadata": {
    "slideshow": {
     "slide_type": "slide"
    }
   },
   "source": [
    "# Week 9\n",
    "\n",
    "**BUSN 32100 Data Analysis with R and Python**\n",
    "\n",
    "**Nov 22,23 2019**"
   ]
  },
  {
   "cell_type": "code",
   "execution_count": null,
   "metadata": {},
   "outputs": [],
   "source": [
    "#Hikaru Sugimori. Worked with Arvind Bhaskar\n"
   ]
  },
  {
   "cell_type": "markdown",
   "metadata": {
    "slideshow": {
     "slide_type": "slide"
    }
   },
   "source": [
    "## Contents\n",
    "\n",
    "- [Week 9 Group Lab](#Week-9-Group-Lab)\n",
    "  - [The index](#The-index) \n",
    "  - [Combine Datasets](#Combining-datasets)\n",
    "  - [Groupby](#Split-Apply-Combine) "
   ]
  },
  {
   "cell_type": "markdown",
   "metadata": {
    "slideshow": {
     "slide_type": "slide"
    }
   },
   "source": [
    "\n",
    "## The index\n",
    "\n",
    "Every Series or DataFrame has an index\n",
    "\n",
    "We told you that the index was the “row labels” for the data\n",
    "\n",
    "This is true, but an index in pandas does much more than label the rows\n",
    "\n",
    "The [pandas\n",
    "documentation](https://pandas.pydata.org/pandas-docs/stable/dsintro.html)\n",
    "says\n",
    "\n",
    "> Data alignment is intrinsic. The link between labels and data will\n",
    "not be broken unless done so explicitly by you.\n",
    "\n",
    "\n",
    "In practice what this means is that when operating on multiple\n",
    "DataFrames, the index and column names are used to make sure the data is\n",
    "properly aligned\n",
    "\n",
    "This is a somewhat abstract concept that is best understood by\n",
    "example…\n",
    "\n",
    "Let’s begin by making an example DataFrame"
   ]
  },
  {
   "cell_type": "code",
   "execution_count": 4,
   "metadata": {
    "hide-output": false,
    "slideshow": {
     "slide_type": "slide"
    }
   },
   "outputs": [
    {
     "data": {
      "text/html": [
       "<div>\n",
       "<style scoped>\n",
       "    .dataframe tbody tr th:only-of-type {\n",
       "        vertical-align: middle;\n",
       "    }\n",
       "\n",
       "    .dataframe tbody tr th {\n",
       "        vertical-align: top;\n",
       "    }\n",
       "\n",
       "    .dataframe thead th {\n",
       "        text-align: right;\n",
       "    }\n",
       "</style>\n",
       "<table border=\"1\" class=\"dataframe\">\n",
       "  <thead>\n",
       "    <tr style=\"text-align: right;\">\n",
       "      <th></th>\n",
       "      <th>one</th>\n",
       "      <th>two</th>\n",
       "    </tr>\n",
       "  </thead>\n",
       "  <tbody>\n",
       "    <tr>\n",
       "      <td>a</td>\n",
       "      <td>1.0</td>\n",
       "      <td>4.0</td>\n",
       "    </tr>\n",
       "    <tr>\n",
       "      <td>b</td>\n",
       "      <td>2.0</td>\n",
       "      <td>3.0</td>\n",
       "    </tr>\n",
       "    <tr>\n",
       "      <td>c</td>\n",
       "      <td>3.0</td>\n",
       "      <td>2.0</td>\n",
       "    </tr>\n",
       "    <tr>\n",
       "      <td>d</td>\n",
       "      <td>4.0</td>\n",
       "      <td>1.0</td>\n",
       "    </tr>\n",
       "  </tbody>\n",
       "</table>\n",
       "</div>"
      ],
      "text/plain": [
       "   one  two\n",
       "a  1.0  4.0\n",
       "b  2.0  3.0\n",
       "c  3.0  2.0\n",
       "d  4.0  1.0"
      ]
     },
     "execution_count": 4,
     "metadata": {},
     "output_type": "execute_result"
    }
   ],
   "source": [
    "import pandas as pd\n",
    "\n",
    "\n",
    "d1 = {'one' : [1., 2., 3., 4.],\n",
    "      'two' : [4., 3., 2., 1.]}\n",
    "df1 = pd.DataFrame(d1, index=list(\"abcd\"))\n",
    "df1_copy = df1.copy()  # Creates a new dataframe with exactly same data\n",
    "df1"
   ]
  },
  {
   "cell_type": "markdown",
   "metadata": {
    "slideshow": {
     "slide_type": "slide"
    }
   },
   "source": [
    "Observe what happens when we evaluate `df1 + df1_copy`"
   ]
  },
  {
   "cell_type": "code",
   "execution_count": 5,
   "metadata": {
    "hide-output": false
   },
   "outputs": [
    {
     "data": {
      "text/html": [
       "<div>\n",
       "<style scoped>\n",
       "    .dataframe tbody tr th:only-of-type {\n",
       "        vertical-align: middle;\n",
       "    }\n",
       "\n",
       "    .dataframe tbody tr th {\n",
       "        vertical-align: top;\n",
       "    }\n",
       "\n",
       "    .dataframe thead th {\n",
       "        text-align: right;\n",
       "    }\n",
       "</style>\n",
       "<table border=\"1\" class=\"dataframe\">\n",
       "  <thead>\n",
       "    <tr style=\"text-align: right;\">\n",
       "      <th></th>\n",
       "      <th>one</th>\n",
       "      <th>two</th>\n",
       "    </tr>\n",
       "  </thead>\n",
       "  <tbody>\n",
       "    <tr>\n",
       "      <td>a</td>\n",
       "      <td>2.0</td>\n",
       "      <td>8.0</td>\n",
       "    </tr>\n",
       "    <tr>\n",
       "      <td>b</td>\n",
       "      <td>4.0</td>\n",
       "      <td>6.0</td>\n",
       "    </tr>\n",
       "    <tr>\n",
       "      <td>c</td>\n",
       "      <td>6.0</td>\n",
       "      <td>4.0</td>\n",
       "    </tr>\n",
       "    <tr>\n",
       "      <td>d</td>\n",
       "      <td>8.0</td>\n",
       "      <td>2.0</td>\n",
       "    </tr>\n",
       "  </tbody>\n",
       "</table>\n",
       "</div>"
      ],
      "text/plain": [
       "   one  two\n",
       "a  2.0  8.0\n",
       "b  4.0  6.0\n",
       "c  6.0  4.0\n",
       "d  8.0  2.0"
      ]
     },
     "execution_count": 5,
     "metadata": {},
     "output_type": "execute_result"
    }
   ],
   "source": [
    "df1 + df1_copy"
   ]
  },
  {
   "cell_type": "markdown",
   "metadata": {
    "slideshow": {
     "slide_type": "slide"
    }
   },
   "source": [
    "Notice that this operated *elementwise*, meaning that the `+`\n",
    "operation was applied to each element of `df1` and the corresponding\n",
    "element of `df1_copy`\n",
    "\n",
    "Let’s make another DataFrame, with a slightly different index…"
   ]
  },
  {
   "cell_type": "code",
   "execution_count": 6,
   "metadata": {
    "hide-output": false
   },
   "outputs": [
    {
     "data": {
      "text/html": [
       "<div>\n",
       "<style scoped>\n",
       "    .dataframe tbody tr th:only-of-type {\n",
       "        vertical-align: middle;\n",
       "    }\n",
       "\n",
       "    .dataframe tbody tr th {\n",
       "        vertical-align: top;\n",
       "    }\n",
       "\n",
       "    .dataframe thead th {\n",
       "        text-align: right;\n",
       "    }\n",
       "</style>\n",
       "<table border=\"1\" class=\"dataframe\">\n",
       "  <thead>\n",
       "    <tr style=\"text-align: right;\">\n",
       "      <th></th>\n",
       "      <th>one</th>\n",
       "      <th>two</th>\n",
       "    </tr>\n",
       "  </thead>\n",
       "  <tbody>\n",
       "    <tr>\n",
       "      <td>a</td>\n",
       "      <td>1.0</td>\n",
       "      <td>4.0</td>\n",
       "    </tr>\n",
       "    <tr>\n",
       "      <td>b</td>\n",
       "      <td>2.0</td>\n",
       "      <td>3.0</td>\n",
       "    </tr>\n",
       "    <tr>\n",
       "      <td>c</td>\n",
       "      <td>3.0</td>\n",
       "      <td>2.0</td>\n",
       "    </tr>\n",
       "    <tr>\n",
       "      <td>d</td>\n",
       "      <td>4.0</td>\n",
       "      <td>1.0</td>\n",
       "    </tr>\n",
       "  </tbody>\n",
       "</table>\n",
       "</div>"
      ],
      "text/plain": [
       "   one  two\n",
       "a  1.0  4.0\n",
       "b  2.0  3.0\n",
       "c  3.0  2.0\n",
       "d  4.0  1.0"
      ]
     },
     "execution_count": 6,
     "metadata": {},
     "output_type": "execute_result"
    }
   ],
   "source": [
    "d2 = {'one' : [100, 400, 200],\n",
    "      'two' : [40., 10., 30],\n",
    "      'three' : [-1, -2, -4],}\n",
    "df2 = pd.DataFrame(d2, index=[\"a\", \"d\", \"b\"])\n",
    "df2\n",
    "df1"
   ]
  },
  {
   "cell_type": "markdown",
   "metadata": {
    "slideshow": {
     "slide_type": "slide"
    }
   },
   "source": [
    "Notice a few things about the index and column names of our two\n",
    "DataFrames:\n",
    "\n",
    "- `df2` does not have a row labeled `c`  \n",
    "- Rows `b` and `d` are not ordered the same in `df1` and `df2`  \n",
    "- `df2` contains a column named `three` that `df1` does not have  \n",
    "\n",
    "\n",
    "Let’s see what happens when we try to add `df1` and `df2`"
   ]
  },
  {
   "cell_type": "code",
   "execution_count": 7,
   "metadata": {
    "hide-output": false
   },
   "outputs": [
    {
     "data": {
      "text/html": [
       "<div>\n",
       "<style scoped>\n",
       "    .dataframe tbody tr th:only-of-type {\n",
       "        vertical-align: middle;\n",
       "    }\n",
       "\n",
       "    .dataframe tbody tr th {\n",
       "        vertical-align: top;\n",
       "    }\n",
       "\n",
       "    .dataframe thead th {\n",
       "        text-align: right;\n",
       "    }\n",
       "</style>\n",
       "<table border=\"1\" class=\"dataframe\">\n",
       "  <thead>\n",
       "    <tr style=\"text-align: right;\">\n",
       "      <th></th>\n",
       "      <th>one</th>\n",
       "      <th>three</th>\n",
       "      <th>two</th>\n",
       "    </tr>\n",
       "  </thead>\n",
       "  <tbody>\n",
       "    <tr>\n",
       "      <td>a</td>\n",
       "      <td>101.0</td>\n",
       "      <td>NaN</td>\n",
       "      <td>44.0</td>\n",
       "    </tr>\n",
       "    <tr>\n",
       "      <td>b</td>\n",
       "      <td>202.0</td>\n",
       "      <td>NaN</td>\n",
       "      <td>33.0</td>\n",
       "    </tr>\n",
       "    <tr>\n",
       "      <td>c</td>\n",
       "      <td>NaN</td>\n",
       "      <td>NaN</td>\n",
       "      <td>NaN</td>\n",
       "    </tr>\n",
       "    <tr>\n",
       "      <td>d</td>\n",
       "      <td>404.0</td>\n",
       "      <td>NaN</td>\n",
       "      <td>11.0</td>\n",
       "    </tr>\n",
       "  </tbody>\n",
       "</table>\n",
       "</div>"
      ],
      "text/plain": [
       "     one  three   two\n",
       "a  101.0    NaN  44.0\n",
       "b  202.0    NaN  33.0\n",
       "c    NaN    NaN   NaN\n",
       "d  404.0    NaN  11.0"
      ]
     },
     "execution_count": 7,
     "metadata": {},
     "output_type": "execute_result"
    }
   ],
   "source": [
    "df12 = df1 + df2\n",
    "df12"
   ]
  },
  {
   "cell_type": "markdown",
   "metadata": {},
   "source": [
    "Whoa, a lot happened! Let’s break it down."
   ]
  },
  {
   "cell_type": "markdown",
   "metadata": {
    "slideshow": {
     "slide_type": "slide"
    }
   },
   "source": [
    "### Automatic alignment\n",
    "\n",
    "For all (row, column) combinations that appear in both DataFrames (e.g.\n",
    "rows [a, b, d] and columns [one, two]) the value of `df12` is equal to\n",
    "`df1.loc[row, col] + df2.loc[row, col]`\n",
    "\n",
    "This happened even though the rows and columns were not in the same\n",
    "order\n",
    "\n",
    "We refer to this as pandas *aligning* the data for us\n"
   ]
  },
  {
   "cell_type": "markdown",
   "metadata": {
    "slideshow": {
     "slide_type": "slide"
    }
   },
   "source": [
    "Think about how to do something similar in Excel:\n",
    "\n",
    "- `df1` and `df2` would be in different sheets  \n",
    "- The index and column names would be the first column and row in each\n",
    "  sheet  \n",
    "- We would have a third sheet to hold the sum  \n",
    "- For each label in the first row and column of *either* the `df1`\n",
    "  sheet or the `df2` sheet we would have to do a `IFELSE` to check\n",
    "  if the label exists in the other sheet and then a `VLOOKUP` to\n",
    "  extract the value  \n",
    "\n",
    "In pandas this happens automatically, behind the scenes, and *very\n",
    "quickly*"
   ]
  },
  {
   "cell_type": "markdown",
   "metadata": {
    "slideshow": {
     "slide_type": "slide"
    }
   },
   "source": [
    "### Handling missing data\n",
    "\n",
    "For all elements in row `c` or column `three`, the value in `df12`\n",
    "is `NaN`\n",
    "\n",
    "This is how pandas represents *missing data*\n",
    "\n",
    "The reason pandas treats this row and column as missing is because it\n",
    "only appeared in one of `df1` and `df2`\n",
    "\n",
    "So, when trying to look up the values in `df1` and `df2`, it could\n",
    "only find a value in one DataFrame: the other value was missing\n",
    "\n",
    "<blockquote>\n",
    "\n",
    "**Check for understanding**\n",
    "\n",
    "What happens when you apply the `mean` method to `df12`?\n",
    "\n",
    "In particular, what happens to columns that have missing data? (HINT:\n",
    "type `df12.mean?` check out the NA related arguments)\n",
    "\n",
    "\n",
    "</blockquote>"
   ]
  },
  {
   "cell_type": "code",
   "execution_count": 8,
   "metadata": {},
   "outputs": [
    {
     "data": {
      "text/plain": [
       "one      235.666667\n",
       "three           NaN\n",
       "two       29.333333\n",
       "dtype: float64"
      ]
     },
     "execution_count": 8,
     "metadata": {},
     "output_type": "execute_result"
    }
   ],
   "source": [
    "# your code here\n",
    "df12.mean()"
   ]
  },
  {
   "cell_type": "markdown",
   "metadata": {
    "slideshow": {
     "slide_type": "slide"
    }
   },
   "source": [
    "## Setting the index\n",
    "\n",
    "In the examples above, we set the index when the DataFrame was created\n",
    "\n",
    "This was ok, because we were creating the DataFrame by hand\n",
    "\n",
    "More often, we will import our data from some resource (e.g. a file on\n",
    "our computer or from the web), in which case we can’t set the index by\n",
    "hand\n",
    "\n",
    "For a DataFrame `df`, the `df.set_index` method allows us to use one\n",
    "(or more) of the DataFrame’s columns as the index\n",
    "\n",
    "Here’s an example"
   ]
  },
  {
   "cell_type": "code",
   "execution_count": 9,
   "metadata": {
    "hide-output": false,
    "slideshow": {
     "slide_type": "slide"
    }
   },
   "outputs": [],
   "source": [
    "# first, create the DataFrame\n",
    "d3 = {\n",
    "    \"X1\": range(6),\n",
    "    \"X2\": range(6, 12),\n",
    "    \"X3\": [\"A\", \"B\", \"C\", \"D\", \"E\", \"F\"],\n",
    "    \"X4\": \"one one one three two two\".split()\n",
    "}\n",
    "df3 = pd.DataFrame(d3)\n"
   ]
  },
  {
   "cell_type": "markdown",
   "metadata": {
    "slideshow": {
     "slide_type": "slide"
    }
   },
   "source": [
    "Notice that we did not pass an index and pandas set the index to count\n",
    "from 0 to the number of rows in `df3` (i.e. `range(df.shape[0])`)\n",
    "\n",
    "This is the default index that pandas creates for us when we don’t\n",
    "supply one\n",
    "\n",
    "Suppose now that we would like the `X3` column to be the index\n",
    "\n",
    "We can make this happen using `df3.set_index(\"X3\")`\n",
    "\n",
    "<blockquote>\n",
    "\n",
    "**Check for understanding**\n",
    "\n",
    "What type of object is returned by the `set_index` method? How can you\n",
    "be sure?\n",
    "\n",
    "Does calling `df3.set_index(\"X3\")` change `df3`? How could you\n",
    "*save* the results of the call to `set_index`?\n",
    "\n",
    "\n",
    "</blockquote>"
   ]
  },
  {
   "cell_type": "code",
   "execution_count": 10,
   "metadata": {},
   "outputs": [
    {
     "data": {
      "text/html": [
       "<div>\n",
       "<style scoped>\n",
       "    .dataframe tbody tr th:only-of-type {\n",
       "        vertical-align: middle;\n",
       "    }\n",
       "\n",
       "    .dataframe tbody tr th {\n",
       "        vertical-align: top;\n",
       "    }\n",
       "\n",
       "    .dataframe thead th {\n",
       "        text-align: right;\n",
       "    }\n",
       "</style>\n",
       "<table border=\"1\" class=\"dataframe\">\n",
       "  <thead>\n",
       "    <tr style=\"text-align: right;\">\n",
       "      <th></th>\n",
       "      <th>X1</th>\n",
       "      <th>X2</th>\n",
       "      <th>X4</th>\n",
       "    </tr>\n",
       "    <tr>\n",
       "      <th>X3</th>\n",
       "      <th></th>\n",
       "      <th></th>\n",
       "      <th></th>\n",
       "    </tr>\n",
       "  </thead>\n",
       "  <tbody>\n",
       "    <tr>\n",
       "      <td>A</td>\n",
       "      <td>0</td>\n",
       "      <td>6</td>\n",
       "      <td>one</td>\n",
       "    </tr>\n",
       "    <tr>\n",
       "      <td>B</td>\n",
       "      <td>1</td>\n",
       "      <td>7</td>\n",
       "      <td>one</td>\n",
       "    </tr>\n",
       "    <tr>\n",
       "      <td>C</td>\n",
       "      <td>2</td>\n",
       "      <td>8</td>\n",
       "      <td>one</td>\n",
       "    </tr>\n",
       "    <tr>\n",
       "      <td>D</td>\n",
       "      <td>3</td>\n",
       "      <td>9</td>\n",
       "      <td>three</td>\n",
       "    </tr>\n",
       "    <tr>\n",
       "      <td>E</td>\n",
       "      <td>4</td>\n",
       "      <td>10</td>\n",
       "      <td>two</td>\n",
       "    </tr>\n",
       "    <tr>\n",
       "      <td>F</td>\n",
       "      <td>5</td>\n",
       "      <td>11</td>\n",
       "      <td>two</td>\n",
       "    </tr>\n",
       "  </tbody>\n",
       "</table>\n",
       "</div>"
      ],
      "text/plain": [
       "    X1  X2     X4\n",
       "X3               \n",
       "A    0   6    one\n",
       "B    1   7    one\n",
       "C    2   8    one\n",
       "D    3   9  three\n",
       "E    4  10    two\n",
       "F    5  11    two"
      ]
     },
     "execution_count": 10,
     "metadata": {},
     "output_type": "execute_result"
    }
   ],
   "source": [
    "df3.set_index(\"X3\")\n"
   ]
  },
  {
   "cell_type": "markdown",
   "metadata": {
    "slideshow": {
     "slide_type": "slide"
    }
   },
   "source": [
    "## Re-setting the index\n",
    "\n",
    "The `df.reset_index` method will move one or more level of the index\n",
    "back into the DataFrame as a normal column\n",
    "\n",
    "With no additional arguments, it moves all levels out of the index and\n",
    "sets the index of the returned DataFrame to the default of\n",
    "`range(df.shape[0])`"
   ]
  },
  {
   "cell_type": "code",
   "execution_count": 11,
   "metadata": {
    "hide-output": false
   },
   "outputs": [
    {
     "data": {
      "text/html": [
       "<div>\n",
       "<style scoped>\n",
       "    .dataframe tbody tr th:only-of-type {\n",
       "        vertical-align: middle;\n",
       "    }\n",
       "\n",
       "    .dataframe tbody tr th {\n",
       "        vertical-align: top;\n",
       "    }\n",
       "\n",
       "    .dataframe thead th {\n",
       "        text-align: right;\n",
       "    }\n",
       "</style>\n",
       "<table border=\"1\" class=\"dataframe\">\n",
       "  <thead>\n",
       "    <tr style=\"text-align: right;\">\n",
       "      <th></th>\n",
       "      <th>index</th>\n",
       "      <th>X1</th>\n",
       "      <th>X2</th>\n",
       "      <th>X3</th>\n",
       "      <th>X4</th>\n",
       "    </tr>\n",
       "  </thead>\n",
       "  <tbody>\n",
       "    <tr>\n",
       "      <td>0</td>\n",
       "      <td>0</td>\n",
       "      <td>0</td>\n",
       "      <td>6</td>\n",
       "      <td>A</td>\n",
       "      <td>one</td>\n",
       "    </tr>\n",
       "    <tr>\n",
       "      <td>1</td>\n",
       "      <td>1</td>\n",
       "      <td>1</td>\n",
       "      <td>7</td>\n",
       "      <td>B</td>\n",
       "      <td>one</td>\n",
       "    </tr>\n",
       "    <tr>\n",
       "      <td>2</td>\n",
       "      <td>2</td>\n",
       "      <td>2</td>\n",
       "      <td>8</td>\n",
       "      <td>C</td>\n",
       "      <td>one</td>\n",
       "    </tr>\n",
       "    <tr>\n",
       "      <td>3</td>\n",
       "      <td>3</td>\n",
       "      <td>3</td>\n",
       "      <td>9</td>\n",
       "      <td>D</td>\n",
       "      <td>three</td>\n",
       "    </tr>\n",
       "    <tr>\n",
       "      <td>4</td>\n",
       "      <td>4</td>\n",
       "      <td>4</td>\n",
       "      <td>10</td>\n",
       "      <td>E</td>\n",
       "      <td>two</td>\n",
       "    </tr>\n",
       "    <tr>\n",
       "      <td>5</td>\n",
       "      <td>5</td>\n",
       "      <td>5</td>\n",
       "      <td>11</td>\n",
       "      <td>F</td>\n",
       "      <td>two</td>\n",
       "    </tr>\n",
       "  </tbody>\n",
       "</table>\n",
       "</div>"
      ],
      "text/plain": [
       "   index  X1  X2 X3     X4\n",
       "0      0   0   6  A    one\n",
       "1      1   1   7  B    one\n",
       "2      2   2   8  C    one\n",
       "3      3   3   9  D  three\n",
       "4      4   4  10  E    two\n",
       "5      5   5  11  F    two"
      ]
     },
     "execution_count": 11,
     "metadata": {},
     "output_type": "execute_result"
    }
   ],
   "source": [
    "df3.reset_index()"
   ]
  },
  {
   "cell_type": "markdown",
   "metadata": {},
   "source": [
    "<blockquote>\n",
    "\n",
    "</blockquote>"
   ]
  },
  {
   "cell_type": "markdown",
   "metadata": {
    "slideshow": {
     "slide_type": "slide"
    }
   },
   "source": [
    "## Split-Apply-Combine\n",
    "\n",
    "One powerful paradigm for analyzing data is the “Split-Apply-Combine”\n",
    "strategy\n",
    "\n",
    "This strategy has three steps:\n",
    "<img src=\"https://raw.githubusercontent.com/BUSN32100/figures/master/split-apply-combine.png\" alt=\"stack.gif\" style=\"\" width=600>\n",
    "\n",
    "\n"
   ]
  },
  {
   "cell_type": "markdown",
   "metadata": {
    "slideshow": {
     "slide_type": "slide"
    }
   },
   "source": [
    "1. `Split`: split the data into groups based on values  \n",
    "1. `Apply`: apply a function or routine to each group separately  \n",
    "1. `Combine`: combine the output of the apply step into a DataFrame,\n",
    "  using the group identifiers as the index  \n",
    "\n",
    "\n",
    "We will cover the main components today, but we encourage you\n",
    "to also study the [official\n",
    "documentation](https://pandas.pydata.org/pandas-docs/stable/groupby.html)\n",
    "to learn more about what is possible"
   ]
  },
  {
   "cell_type": "code",
   "execution_count": 12,
   "metadata": {
    "hide-output": false
   },
   "outputs": [
    {
     "data": {
      "text/html": [
       "<div>\n",
       "<style scoped>\n",
       "    .dataframe tbody tr th:only-of-type {\n",
       "        vertical-align: middle;\n",
       "    }\n",
       "\n",
       "    .dataframe tbody tr th {\n",
       "        vertical-align: top;\n",
       "    }\n",
       "\n",
       "    .dataframe thead th {\n",
       "        text-align: right;\n",
       "    }\n",
       "</style>\n",
       "<table border=\"1\" class=\"dataframe\">\n",
       "  <thead>\n",
       "    <tr style=\"text-align: right;\">\n",
       "      <th></th>\n",
       "      <th>isAlive</th>\n",
       "      <th>house</th>\n",
       "      <th>season 3</th>\n",
       "      <th>numDeadRelations</th>\n",
       "      <th>age</th>\n",
       "    </tr>\n",
       "    <tr>\n",
       "      <th>name</th>\n",
       "      <th></th>\n",
       "      <th></th>\n",
       "      <th></th>\n",
       "      <th></th>\n",
       "      <th></th>\n",
       "    </tr>\n",
       "  </thead>\n",
       "  <tbody>\n",
       "    <tr>\n",
       "      <td>Jon Snow</td>\n",
       "      <td>1</td>\n",
       "      <td>House Stark</td>\n",
       "      <td>36.00</td>\n",
       "      <td>5</td>\n",
       "      <td>22.0</td>\n",
       "    </tr>\n",
       "    <tr>\n",
       "      <td>Daenerys Targaryen</td>\n",
       "      <td>1</td>\n",
       "      <td>House Targaryen</td>\n",
       "      <td>30.75</td>\n",
       "      <td>15</td>\n",
       "      <td>21.0</td>\n",
       "    </tr>\n",
       "    <tr>\n",
       "      <td>Tyrion Lannister</td>\n",
       "      <td>1</td>\n",
       "      <td>House Lannister</td>\n",
       "      <td>50.00</td>\n",
       "      <td>12</td>\n",
       "      <td>32.0</td>\n",
       "    </tr>\n",
       "    <tr>\n",
       "      <td>Sansa Stark</td>\n",
       "      <td>1</td>\n",
       "      <td>House Stark</td>\n",
       "      <td>33.50</td>\n",
       "      <td>10</td>\n",
       "      <td>19.0</td>\n",
       "    </tr>\n",
       "    <tr>\n",
       "      <td>Jaime Lannister</td>\n",
       "      <td>1</td>\n",
       "      <td>House Lannister</td>\n",
       "      <td>34.75</td>\n",
       "      <td>7</td>\n",
       "      <td>39.0</td>\n",
       "    </tr>\n",
       "    <tr>\n",
       "      <td>...</td>\n",
       "      <td>...</td>\n",
       "      <td>...</td>\n",
       "      <td>...</td>\n",
       "      <td>...</td>\n",
       "      <td>...</td>\n",
       "    </tr>\n",
       "    <tr>\n",
       "      <td>High Sparrow</td>\n",
       "      <td>0</td>\n",
       "      <td>Faith of the Seven</td>\n",
       "      <td>0.00</td>\n",
       "      <td>0</td>\n",
       "      <td>NaN</td>\n",
       "    </tr>\n",
       "    <tr>\n",
       "      <td>Hizdahr zo Loraq</td>\n",
       "      <td>1</td>\n",
       "      <td>Other</td>\n",
       "      <td>0.00</td>\n",
       "      <td>0</td>\n",
       "      <td>NaN</td>\n",
       "    </tr>\n",
       "    <tr>\n",
       "      <td>Unella</td>\n",
       "      <td>1</td>\n",
       "      <td>Faith of the Seven</td>\n",
       "      <td>0.00</td>\n",
       "      <td>0</td>\n",
       "      <td>NaN</td>\n",
       "    </tr>\n",
       "    <tr>\n",
       "      <td>Mace Tyrell</td>\n",
       "      <td>1</td>\n",
       "      <td>House Tyrell</td>\n",
       "      <td>0.00</td>\n",
       "      <td>1</td>\n",
       "      <td>49.0</td>\n",
       "    </tr>\n",
       "    <tr>\n",
       "      <td>Oberyn Martell</td>\n",
       "      <td>0</td>\n",
       "      <td>House Martell</td>\n",
       "      <td>0.00</td>\n",
       "      <td>5</td>\n",
       "      <td>43.0</td>\n",
       "    </tr>\n",
       "  </tbody>\n",
       "</table>\n",
       "<p>87 rows × 5 columns</p>\n",
       "</div>"
      ],
      "text/plain": [
       "                    isAlive               house  season 3  numDeadRelations  \\\n",
       "name                                                                          \n",
       "Jon Snow                  1         House Stark     36.00                 5   \n",
       "Daenerys Targaryen        1     House Targaryen     30.75                15   \n",
       "Tyrion Lannister          1     House Lannister     50.00                12   \n",
       "Sansa Stark               1         House Stark     33.50                10   \n",
       "Jaime Lannister           1     House Lannister     34.75                 7   \n",
       "...                     ...                 ...       ...               ...   \n",
       "High Sparrow              0  Faith of the Seven      0.00                 0   \n",
       "Hizdahr zo Loraq          1               Other      0.00                 0   \n",
       "Unella                    1  Faith of the Seven      0.00                 0   \n",
       "Mace Tyrell               1        House Tyrell      0.00                 1   \n",
       "Oberyn Martell            0       House Martell      0.00                 5   \n",
       "\n",
       "                     age  \n",
       "name                      \n",
       "Jon Snow            22.0  \n",
       "Daenerys Targaryen  21.0  \n",
       "Tyrion Lannister    32.0  \n",
       "Sansa Stark         19.0  \n",
       "Jaime Lannister     39.0  \n",
       "...                  ...  \n",
       "High Sparrow         NaN  \n",
       "Hizdahr zo Loraq     NaN  \n",
       "Unella               NaN  \n",
       "Mace Tyrell         49.0  \n",
       "Oberyn Martell      43.0  \n",
       "\n",
       "[87 rows x 5 columns]"
      ]
     },
     "execution_count": 12,
     "metadata": {},
     "output_type": "execute_result"
    }
   ],
   "source": [
    "# read in the file as before\n",
    "\n",
    "got = pd.read_csv(\"https://raw.githubusercontent.com/BUSN32100/data_files/master/top_characters.csv\", index_col=0)\n",
    "df1 = got[['isAlive', 'house', 'season 3', 'numDeadRelations', 'age']]\n",
    "df1\n"
   ]
  },
  {
   "cell_type": "markdown",
   "metadata": {
    "slideshow": {
     "slide_type": "slide"
    }
   },
   "source": [
    "### Simple example\n",
    "\n",
    "To perform the *Split* step, we call the `groupby` method on our\n",
    "DataFrame\n",
    "\n",
    "The first argument to `groupby` is a description of how we want to\n",
    "construct groups\n",
    "\n",
    "In the most basic version we will pass a string identifying the column\n",
    "name"
   ]
  },
  {
   "cell_type": "code",
   "execution_count": 13,
   "metadata": {
    "hide-output": false
   },
   "outputs": [
    {
     "data": {
      "text/plain": [
       "<pandas.core.groupby.generic.DataFrameGroupBy object at 0x11ca81b90>"
      ]
     },
     "execution_count": 13,
     "metadata": {},
     "output_type": "execute_result"
    }
   ],
   "source": [
    "gbHouse = df1.groupby(\"house\")\n",
    "gbHouse"
   ]
  },
  {
   "cell_type": "markdown",
   "metadata": {},
   "source": [
    "The `type` of variable we get back is a `DataFrameGroupBy`, which we\n",
    "will sometimes refer to as GroupBy for short"
   ]
  },
  {
   "cell_type": "code",
   "execution_count": 14,
   "metadata": {
    "hide-output": false
   },
   "outputs": [
    {
     "data": {
      "text/plain": [
       "pandas.core.groupby.generic.DataFrameGroupBy"
      ]
     },
     "execution_count": 14,
     "metadata": {},
     "output_type": "execute_result"
    }
   ],
   "source": [
    "type(gbHouse)"
   ]
  },
  {
   "cell_type": "markdown",
   "metadata": {
    "slideshow": {
     "slide_type": "slide"
    }
   },
   "source": [
    "It is helpful to look at the “groups” inside of the GroupBy object to\n",
    "understand what the GroupBy represents\n",
    "\n",
    "We can do this with the `gb.get_group(group_name)` method\n",
    "\n",
    "Note: this is by `group_name` not the index"
   ]
  },
  {
   "cell_type": "code",
   "execution_count": 15,
   "metadata": {
    "hide-output": false
   },
   "outputs": [
    {
     "data": {
      "text/plain": [
       "\u001b[0;31mSignature:\u001b[0m\n",
       "\u001b[0mgbHouse\u001b[0m\u001b[0;34m.\u001b[0m\u001b[0mboxplot\u001b[0m\u001b[0;34m(\u001b[0m\u001b[0;34m\u001b[0m\n",
       "\u001b[0;34m\u001b[0m    \u001b[0msubplots\u001b[0m\u001b[0;34m=\u001b[0m\u001b[0;32mTrue\u001b[0m\u001b[0;34m,\u001b[0m\u001b[0;34m\u001b[0m\n",
       "\u001b[0;34m\u001b[0m    \u001b[0mcolumn\u001b[0m\u001b[0;34m=\u001b[0m\u001b[0;32mNone\u001b[0m\u001b[0;34m,\u001b[0m\u001b[0;34m\u001b[0m\n",
       "\u001b[0;34m\u001b[0m    \u001b[0mfontsize\u001b[0m\u001b[0;34m=\u001b[0m\u001b[0;32mNone\u001b[0m\u001b[0;34m,\u001b[0m\u001b[0;34m\u001b[0m\n",
       "\u001b[0;34m\u001b[0m    \u001b[0mrot\u001b[0m\u001b[0;34m=\u001b[0m\u001b[0;36m0\u001b[0m\u001b[0;34m,\u001b[0m\u001b[0;34m\u001b[0m\n",
       "\u001b[0;34m\u001b[0m    \u001b[0mgrid\u001b[0m\u001b[0;34m=\u001b[0m\u001b[0;32mTrue\u001b[0m\u001b[0;34m,\u001b[0m\u001b[0;34m\u001b[0m\n",
       "\u001b[0;34m\u001b[0m    \u001b[0max\u001b[0m\u001b[0;34m=\u001b[0m\u001b[0;32mNone\u001b[0m\u001b[0;34m,\u001b[0m\u001b[0;34m\u001b[0m\n",
       "\u001b[0;34m\u001b[0m    \u001b[0mfigsize\u001b[0m\u001b[0;34m=\u001b[0m\u001b[0;32mNone\u001b[0m\u001b[0;34m,\u001b[0m\u001b[0;34m\u001b[0m\n",
       "\u001b[0;34m\u001b[0m    \u001b[0mlayout\u001b[0m\u001b[0;34m=\u001b[0m\u001b[0;32mNone\u001b[0m\u001b[0;34m,\u001b[0m\u001b[0;34m\u001b[0m\n",
       "\u001b[0;34m\u001b[0m    \u001b[0msharex\u001b[0m\u001b[0;34m=\u001b[0m\u001b[0;32mFalse\u001b[0m\u001b[0;34m,\u001b[0m\u001b[0;34m\u001b[0m\n",
       "\u001b[0;34m\u001b[0m    \u001b[0msharey\u001b[0m\u001b[0;34m=\u001b[0m\u001b[0;32mTrue\u001b[0m\u001b[0;34m,\u001b[0m\u001b[0;34m\u001b[0m\n",
       "\u001b[0;34m\u001b[0m    \u001b[0;34m**\u001b[0m\u001b[0mkwds\u001b[0m\u001b[0;34m,\u001b[0m\u001b[0;34m\u001b[0m\n",
       "\u001b[0;34m\u001b[0m\u001b[0;34m)\u001b[0m\u001b[0;34m\u001b[0m\u001b[0;34m\u001b[0m\u001b[0m\n",
       "\u001b[0;31mDocstring:\u001b[0m\n",
       "Make box plots from DataFrameGroupBy data.\n",
       "\n",
       "Parameters\n",
       "----------\n",
       "grouped : Grouped DataFrame\n",
       "subplots : bool\n",
       "    * ``False`` - no subplots will be used\n",
       "    * ``True`` - create a subplot for each group\n",
       "column : column name or list of names, or vector\n",
       "    Can be any valid input to groupby\n",
       "fontsize : int or string\n",
       "rot : label rotation angle\n",
       "grid : Setting this to True will show the grid\n",
       "ax : Matplotlib axis object, default None\n",
       "figsize : A tuple (width, height) in inches\n",
       "layout : tuple (optional)\n",
       "    (rows, columns) for the layout of the plot\n",
       "sharex : bool, default False\n",
       "    Whether x-axes will be shared among subplots\n",
       "\n",
       "    .. versionadded:: 0.23.1\n",
       "sharey : bool, default True\n",
       "    Whether y-axes will be shared among subplots\n",
       "\n",
       "    .. versionadded:: 0.23.1\n",
       "`**kwds` : Keyword Arguments\n",
       "    All other plotting keyword arguments to be passed to\n",
       "    matplotlib's boxplot function\n",
       "\n",
       "Returns\n",
       "-------\n",
       "dict of key/value = group key/DataFrame.boxplot return value\n",
       "or DataFrame.boxplot return value in case subplots=figures=False\n",
       "\n",
       "Examples\n",
       "--------\n",
       ">>> import itertools\n",
       ">>> tuples = [t for t in itertools.product(range(1000), range(4))]\n",
       ">>> index = pd.MultiIndex.from_tuples(tuples, names=['lvl0', 'lvl1'])\n",
       ">>> data = np.random.randn(len(index),4)\n",
       ">>> df = pd.DataFrame(data, columns=list('ABCD'), index=index)\n",
       ">>>\n",
       ">>> grouped = df.groupby(level='lvl1')\n",
       ">>> boxplot_frame_groupby(grouped)\n",
       ">>>\n",
       ">>> grouped = df.unstack(level='lvl1').groupby(level=0, axis=1)\n",
       ">>> boxplot_frame_groupby(grouped, subplots=False)\n",
       "\u001b[0;31mFile:\u001b[0m      /opt/anaconda3/lib/python3.7/site-packages/pandas/plotting/_core.py\n",
       "\u001b[0;31mType:\u001b[0m      method\n"
      ]
     },
     "metadata": {},
     "output_type": "display_data"
    }
   ],
   "source": [
    "\n",
    "gbHouse.boxplot?"
   ]
  },
  {
   "cell_type": "code",
   "execution_count": 16,
   "metadata": {
    "hide-output": false
   },
   "outputs": [
    {
     "data": {
      "text/html": [
       "<div>\n",
       "<style scoped>\n",
       "    .dataframe tbody tr th:only-of-type {\n",
       "        vertical-align: middle;\n",
       "    }\n",
       "\n",
       "    .dataframe tbody tr th {\n",
       "        vertical-align: top;\n",
       "    }\n",
       "\n",
       "    .dataframe thead th {\n",
       "        text-align: right;\n",
       "    }\n",
       "</style>\n",
       "<table border=\"1\" class=\"dataframe\">\n",
       "  <thead>\n",
       "    <tr style=\"text-align: right;\">\n",
       "      <th></th>\n",
       "      <th>isAlive</th>\n",
       "      <th>house</th>\n",
       "      <th>season 3</th>\n",
       "      <th>numDeadRelations</th>\n",
       "      <th>age</th>\n",
       "    </tr>\n",
       "    <tr>\n",
       "      <th>name</th>\n",
       "      <th></th>\n",
       "      <th></th>\n",
       "      <th></th>\n",
       "      <th></th>\n",
       "      <th></th>\n",
       "    </tr>\n",
       "  </thead>\n",
       "  <tbody>\n",
       "    <tr>\n",
       "      <td>Olenna Tyrell</td>\n",
       "      <td>0</td>\n",
       "      <td>House Tyrell</td>\n",
       "      <td>13.75</td>\n",
       "      <td>0</td>\n",
       "      <td>77.0</td>\n",
       "    </tr>\n",
       "    <tr>\n",
       "      <td>Margaery Tyrell</td>\n",
       "      <td>0</td>\n",
       "      <td>House Tyrell</td>\n",
       "      <td>21.25</td>\n",
       "      <td>3</td>\n",
       "      <td>22.0</td>\n",
       "    </tr>\n",
       "    <tr>\n",
       "      <td>Loras Tyrell</td>\n",
       "      <td>1</td>\n",
       "      <td>House Tyrell</td>\n",
       "      <td>6.25</td>\n",
       "      <td>2</td>\n",
       "      <td>23.0</td>\n",
       "    </tr>\n",
       "    <tr>\n",
       "      <td>Mace Tyrell</td>\n",
       "      <td>1</td>\n",
       "      <td>House Tyrell</td>\n",
       "      <td>0.00</td>\n",
       "      <td>1</td>\n",
       "      <td>49.0</td>\n",
       "    </tr>\n",
       "  </tbody>\n",
       "</table>\n",
       "</div>"
      ],
      "text/plain": [
       "                 isAlive         house  season 3  numDeadRelations   age\n",
       "name                                                                    \n",
       "Olenna Tyrell          0  House Tyrell     13.75                 0  77.0\n",
       "Margaery Tyrell        0  House Tyrell     21.25                 3  22.0\n",
       "Loras Tyrell           1  House Tyrell      6.25                 2  23.0\n",
       "Mace Tyrell            1  House Tyrell      0.00                 1  49.0"
      ]
     },
     "execution_count": 16,
     "metadata": {},
     "output_type": "execute_result"
    }
   ],
   "source": [
    "gbHouse.get_group(\"House Tyrell\")"
   ]
  },
  {
   "cell_type": "markdown",
   "metadata": {
    "slideshow": {
     "slide_type": "slide"
    }
   },
   "source": [
    "We can *apply* some of our favorite aggregation functions directly on the\n",
    "`GroupBy` object\n",
    "\n",
    "<blockquote>\n",
    "\n",
    "**Check for understanding**\n",
    "\n",
    "With your neighbor, look closely at the output of the cells below\n",
    "\n",
    "How did pandas compute the mean of `gbHouse`? What happened to the `NaN`\n",
    "entries in column `age`?\n",
    "\n",
    "Hint: try `gbHouse.count()` or `gbHouse.sum()` if you can’t decide what\n",
    "happened to the `NaN`s\n",
    "\n",
    "\n",
    "</blockquote>"
   ]
  },
  {
   "cell_type": "code",
   "execution_count": null,
   "metadata": {
    "hide-output": false
   },
   "outputs": [],
   "source": []
  },
  {
   "cell_type": "markdown",
   "metadata": {},
   "source": [
    "<blockquote>\n",
    "\n",
    "</blockquote>"
   ]
  },
  {
   "cell_type": "markdown",
   "metadata": {},
   "source": [
    "<blockquote>\n",
    "\n",
    "</blockquote>"
   ]
  },
  {
   "cell_type": "markdown",
   "metadata": {
    "slideshow": {
     "slide_type": "slide"
    }
   },
   "source": [
    "<blockquote>\n",
    "\n",
    "**Check for understanding**\n",
    "\n",
    "Use introspection (tab completion) to see what other aggregations are\n",
    "defined for GroupBy objects\n",
    "\n",
    "Pick two and evaluate them in the cells below\n",
    "\n",
    "Does the output of each of these commands have the same features as the\n",
    "output of `gbHouse.mean()` from above? If not, what is different?\n",
    "\n",
    "\n",
    "</blockquote>"
   ]
  },
  {
   "cell_type": "code",
   "execution_count": 17,
   "metadata": {
    "hide-output": false
   },
   "outputs": [
    {
     "ename": "SyntaxError",
     "evalue": "invalid syntax (<ipython-input-17-d4470f45d578>, line 2)",
     "output_type": "error",
     "traceback": [
      "\u001b[0;36m  File \u001b[0;32m\"<ipython-input-17-d4470f45d578>\"\u001b[0;36m, line \u001b[0;32m2\u001b[0m\n\u001b[0;31m    gbHouse.#Tab\u001b[0m\n\u001b[0m                ^\u001b[0m\n\u001b[0;31mSyntaxError\u001b[0m\u001b[0;31m:\u001b[0m invalid syntax\n"
     ]
    }
   ],
   "source": [
    "# method 1\n",
    "gbHouse.#Tab"
   ]
  },
  {
   "cell_type": "markdown",
   "metadata": {},
   "source": [
    "<blockquote>\n",
    "\n",
    "</blockquote>"
   ]
  },
  {
   "cell_type": "code",
   "execution_count": null,
   "metadata": {
    "hide-output": false
   },
   "outputs": [],
   "source": [
    "# method 2"
   ]
  },
  {
   "cell_type": "markdown",
   "metadata": {},
   "source": [
    "<blockquote>\n",
    "\n",
    "</blockquote>"
   ]
  },
  {
   "cell_type": "markdown",
   "metadata": {},
   "source": [
    "<blockquote>\n",
    "\n",
    "</blockquote>"
   ]
  },
  {
   "cell_type": "markdown",
   "metadata": {
    "slideshow": {
     "slide_type": "slide"
    }
   },
   "source": [
    "If we pass a list of strings to `groupby`, it will group based on\n",
    "unique combinations of values from all columns in the list\n",
    "\n",
    "Let’s see an example"
   ]
  },
  {
   "cell_type": "code",
   "execution_count": null,
   "metadata": {
    "hide-output": false
   },
   "outputs": [],
   "source": [
    "gbHouseAlive = df1.groupby([\"house\", \"isAlive\"])\n",
    "type(gbHouseAlive)"
   ]
  },
  {
   "cell_type": "code",
   "execution_count": null,
   "metadata": {
    "hide-output": false
   },
   "outputs": [],
   "source": [
    "gbHouseAlive.get_group(('House Stark', 0))"
   ]
  },
  {
   "cell_type": "markdown",
   "metadata": {},
   "source": [
    "Notice that we still have a GroupBy object, so we can apply our favorite\n",
    "aggregations"
   ]
  },
  {
   "cell_type": "code",
   "execution_count": null,
   "metadata": {
    "hide-output": false
   },
   "outputs": [],
   "source": [
    "gbHouseAlive.count()"
   ]
  },
  {
   "cell_type": "markdown",
   "metadata": {},
   "source": [
    "This highlights a principle of how pandas handles the *Combine* part of\n",
    "the strategy:\n",
    "\n",
    "> The index of the combined DataFrame will be the group identifiers,\n",
    "with one index level per group key"
   ]
  },
  {
   "cell_type": "markdown",
   "metadata": {
    "slideshow": {
     "slide_type": "slide"
    }
   },
   "source": [
    "### Custom aggregate functions\n",
    "\n",
    "So far, we have been applying built in aggregations to our GroupBy object\n",
    "\n",
    "We can also apply custom aggregations to each group of a GroupBy in two\n",
    "steps:\n",
    "\n",
    "1. Write our custom aggregation as a Python function  \n",
    "1. Passing our function as an argument to the `.agg` method of a GroupBy  \n",
    "\n",
    "\n",
    "Let’s see an example"
   ]
  },
  {
   "cell_type": "code",
   "execution_count": null,
   "metadata": {
    "hide-output": false,
    "slideshow": {
     "slide_type": "slide"
    }
   },
   "outputs": [],
   "source": [
    "def num_missing(group):\n",
    "    \"Return the number of missing items in each column of df\"\n",
    "    return group.isnull().sum()"
   ]
  },
  {
   "cell_type": "markdown",
   "metadata": {},
   "source": [
    "We can call this function on or original DataFrame to get the number of\n",
    "missing items in each column"
   ]
  },
  {
   "cell_type": "code",
   "execution_count": null,
   "metadata": {
    "hide-output": false
   },
   "outputs": [],
   "source": [
    "num_missing(df1)"
   ]
  },
  {
   "cell_type": "markdown",
   "metadata": {},
   "source": [
    "We can also apply it to a GroupBy object to get the number of missing\n",
    "items in each column *for each group*"
   ]
  },
  {
   "cell_type": "code",
   "execution_count": null,
   "metadata": {
    "hide-output": false
   },
   "outputs": [],
   "source": [
    "gbHouse.agg(num_missing)"
   ]
  },
  {
   "cell_type": "markdown",
   "metadata": {
    "slideshow": {
     "slide_type": "slide"
    }
   },
   "source": [
    "### agg with multiple functions on each column\n",
    "pass a list of functions as the argument"
   ]
  },
  {
   "cell_type": "code",
   "execution_count": null,
   "metadata": {},
   "outputs": [],
   "source": [
    "import numpy as np\n",
    "gbHouse.agg([np.mean , np.max , np.min, np.median])"
   ]
  },
  {
   "cell_type": "markdown",
   "metadata": {
    "slideshow": {
     "slide_type": "slide"
    }
   },
   "source": [
    "### agg with different function for different columns \n",
    "pass a dictionary of column names as keys and functions as the values"
   ]
  },
  {
   "cell_type": "code",
   "execution_count": null,
   "metadata": {},
   "outputs": [],
   "source": [
    "gbHouse.agg({'isAlive': np.mean, \n",
    "             \"season 3\": np.median, \n",
    "             'numDeadRelations': np.max, \n",
    "             'age': [np.min, np.max]})"
   ]
  },
  {
   "cell_type": "markdown",
   "metadata": {
    "slideshow": {
     "slide_type": "slide"
    }
   },
   "source": [
    "### Transforms: the `apply` method\n",
    "\n",
    "As we saw in last week's lecture, we can apply transforms to DataFrames\n",
    "\n",
    "We can do the same with GroupBy objects using the `.apply` method\n",
    "\n",
    "Let’s see an example"
   ]
  },
  {
   "cell_type": "code",
   "execution_count": null,
   "metadata": {},
   "outputs": [],
   "source": [
    "df1.nsmallest(2, columns=\"age\")"
   ]
  },
  {
   "cell_type": "code",
   "execution_count": null,
   "metadata": {
    "hide-output": false,
    "slideshow": {
     "slide_type": "slide"
    }
   },
   "outputs": [],
   "source": [
    "def youngest(df):\n",
    "    return df.nsmallest(2, \"age\")"
   ]
  },
  {
   "cell_type": "code",
   "execution_count": null,
   "metadata": {
    "hide-output": false
   },
   "outputs": [],
   "source": [
    "gbHouse.apply(youngest)"
   ]
  },
  {
   "cell_type": "markdown",
   "metadata": {
    "slideshow": {
     "slide_type": "slide"
    }
   },
   "source": [
    "Notice that the return value from applying our series transform to `gbHouse`\n",
    "was the group key on the outer level (the `House` column) and the original\n",
    "index from `got` on the inner level\n",
    "\n",
    "The original index came along because that was the index of the\n",
    "DataFrame returned by `youngest`\n",
    "\n",
    "Had our function returned something other than the index from `df`,\n",
    "that would appear in the result of the call to `.apply`"
   ]
  },
  {
   "cell_type": "markdown",
   "metadata": {
    "slideshow": {
     "slide_type": "slide"
    }
   },
   "source": [
    "\n",
    "<blockquote>\n",
    "\n",
    "**Check for understanding**\n",
    "\n",
    "This exercise has a few steps:\n",
    "\n",
    "1. Write a function that, given a DataFrame, computes each entry’s\n",
    "deviation from the mean of its column\n",
    "2. Apply the function to `gbHouse`\n",
    "3. With your neighbor describe what the index and and columns are? Where\n",
    "are the group keys (the `house` column)?\n",
    "\n",
    "</blockquote>"
   ]
  },
  {
   "cell_type": "code",
   "execution_count": null,
   "metadata": {
    "hide-output": false
   },
   "outputs": [],
   "source": [
    "# write function here\n",
    "\n",
    "def dev_from_mean (s):\n",
    "    return s - s.mean()\n"
   ]
  },
  {
   "cell_type": "code",
   "execution_count": null,
   "metadata": {},
   "outputs": [],
   "source": [
    "# create the groupby\n",
    "gbHouse = df1.groupby('house')"
   ]
  },
  {
   "cell_type": "code",
   "execution_count": null,
   "metadata": {},
   "outputs": [],
   "source": [
    "# apply function here\n",
    "gbHouse.apply(dev_from_mean)"
   ]
  },
  {
   "cell_type": "markdown",
   "metadata": {},
   "source": [
    "<blockquote>\n",
    "\n",
    "</blockquote>"
   ]
  },
  {
   "cell_type": "markdown",
   "metadata": {
    "slideshow": {
     "slide_type": "slide"
    }
   },
   "source": [
    "### `pd.Grouper`\n",
    "\n",
    "Sometimes in order to construct the groups you want, you need to give\n",
    "pandas more information than just a column name\n",
    "\n",
    "Some examples are:\n",
    "\n",
    "- Grouping by a column and a level of the index  \n",
    "- Grouping time series data at a particular frequency  \n",
    "\n",
    "\n",
    "Pandas lets you do this through the `pd.Grouper` type\n",
    "\n",
    "To see it in action, let’s make a data frame `df2` with `A` moved to the\n",
    "index and a `Date` column added"
   ]
  },
  {
   "cell_type": "code",
   "execution_count": null,
   "metadata": {
    "hide-output": false,
    "slideshow": {
     "slide_type": "slide"
    }
   },
   "outputs": [],
   "source": [
    "df2 = pd.DataFrame({\"A\":[1]*3+[2]*3,\n",
    "                   \"B\":[1,2]*3})\n",
    "df2[\"Date\"] = pd.date_range(\n",
    "    start=pd.datetime.today().strftime(\"%m/%d/%Y\"),\n",
    "    freq=\"BQ\",\n",
    "    periods=df2.shape[0]\n",
    ")\n",
    "df2 = df2.set_index(\"A\")\n",
    "df2"
   ]
  },
  {
   "cell_type": "markdown",
   "metadata": {
    "slideshow": {
     "slide_type": "slide"
    }
   },
   "source": [
    "We can group by year"
   ]
  },
  {
   "cell_type": "code",
   "execution_count": null,
   "metadata": {
    "hide-output": false
   },
   "outputs": [],
   "source": [
    "#count annually\n",
    "df2.groupby(pd.Grouper(key=\"Date\", freq=\"A\")).count()"
   ]
  },
  {
   "cell_type": "markdown",
   "metadata": {},
   "source": [
    "We can group by the `A` level of the index"
   ]
  },
  {
   "cell_type": "code",
   "execution_count": null,
   "metadata": {
    "hide-output": false
   },
   "outputs": [],
   "source": [
    "df2.groupby(pd.Grouper(level=\"A\")).count()"
   ]
  },
  {
   "cell_type": "code",
   "execution_count": null,
   "metadata": {},
   "outputs": [],
   "source": [
    "df2.groupby(\"A\").count()"
   ]
  },
  {
   "cell_type": "markdown",
   "metadata": {
    "slideshow": {
     "slide_type": "slide"
    }
   },
   "source": [
    "We can combine these to group by both"
   ]
  },
  {
   "cell_type": "code",
   "execution_count": null,
   "metadata": {
    "hide-output": false
   },
   "outputs": [],
   "source": [
    "df2.groupby([pd.Grouper(key=\"Date\", freq=\"A\"), pd.Grouper(level=\"A\")]).count()"
   ]
  },
  {
   "cell_type": "markdown",
   "metadata": {},
   "source": [
    "And we can combine `pd.Grouper` with a string, where the string\n",
    "denotes a column name"
   ]
  },
  {
   "cell_type": "code",
   "execution_count": null,
   "metadata": {
    "hide-output": false
   },
   "outputs": [],
   "source": [
    "df2.groupby([pd.Grouper(key=\"Date\", freq=\"A\"), \"B\"]).count()"
   ]
  },
  {
   "cell_type": "markdown",
   "metadata": {
    "slideshow": {
     "slide_type": "slide"
    }
   },
   "source": [
    "## Combining datasets\n",
    "\n",
    "Often we will want perform joint analysis on data from different sources\n",
    "\n",
    "For example, we are working with product level data and have a list of\n",
    "product groups in a separate dataset and want to compute aggregate\n",
    "statistics for each group\n",
    "\n",
    "In pandas there are three main methods for accomplishing these goals:\n",
    "\n",
    "1. `pd.merge(df1, df2)`  \n",
    "1. `df1.merge(df2)`  \n",
    "1. `df1.join(df2)`  \n",
    "\n",
    "\n",
    "We’ll tackle two of these in turn using the DataFrames `df1` and\n",
    "`df2` defined below and then practice on (arguably) more interesting\n",
    "data"
   ]
  },
  {
   "cell_type": "code",
   "execution_count": null,
   "metadata": {
    "hide-output": false,
    "slideshow": {
     "slide_type": "slide"
    }
   },
   "outputs": [],
   "source": [
    "df1 = pd.DataFrame(\n",
    "    {\"Key\": [\"A\", \"B\", \"A\", \"C\"], \"C1\":[1, 2, 3, 4], \"C2\": [10, 20, 30, 40]},\n",
    "    index=[\"L1\", \"L2\", \"L3\", \"L4\"]\n",
    ")[[\"Key\", \"C1\", \"C2\"]]\n",
    "\n",
    "print(\"This is df1: \")\n",
    "display(df1)\n",
    "\n",
    "\n",
    "df2 = pd.DataFrame(\n",
    "    {\"Key\": [\"A\", \"B\", \"C\", \"D\"], \"C3\": [100, 200, 300, 400]},\n",
    "    index=[\"R1\", \"R2\", \"R3\", \"R4\"]\n",
    ")[[\"Key\", \"C3\"]]\n",
    "\n",
    "print(\"This is df2:\")\n",
    "display(df2)"
   ]
  },
  {
   "cell_type": "markdown",
   "metadata": {
    "slideshow": {
     "slide_type": "slide"
    }
   },
   "source": [
    "## `pd.merge`\n",
    "\n",
    "`pd.merge` operates on two DataFrames at a time and is primarily used\n",
    "to bring columns from one DataFrame into another, *aligning* data based\n",
    "on one or more “key” columns. This is very similar to how `inner_join()`, `left_join()`,.. etc in `R`. Instead of multiple funtions, `pd.merge` can perform different types of joins.\n",
    "\n",
    "Let’s look at some examples"
   ]
  },
  {
   "cell_type": "markdown",
   "metadata": {
    "hide-output": false,
    "slideshow": {
     "slide_type": "slide"
    }
   },
   "source": [
    "```python3\n",
    "output = pd.merge(df1, df2, on=\"Key\")\n",
    "```\n",
    "<img src=\"https://raw.githubusercontent.com/BUSN32100/figures/master/left_merge.gif\" alt=\"left\\_merge.gif\" style=\"\">\n",
    "\n"
   ]
  },
  {
   "cell_type": "code",
   "execution_count": null,
   "metadata": {
    "hide-output": false,
    "slideshow": {
     "slide_type": "slide"
    }
   },
   "outputs": [],
   "source": [
    "df1"
   ]
  },
  {
   "cell_type": "code",
   "execution_count": null,
   "metadata": {
    "hide-output": false
   },
   "outputs": [],
   "source": [
    "df2"
   ]
  },
  {
   "cell_type": "code",
   "execution_count": null,
   "metadata": {
    "hide-output": false,
    "slideshow": {
     "slide_type": "slide"
    }
   },
   "outputs": [],
   "source": [
    "pd.merge(df1, df2, on=\"Key\") #inner join by default"
   ]
  },
  {
   "cell_type": "markdown",
   "metadata": {},
   "source": [
    "There are many optional argument for the `pd.merge` function\n",
    "\n",
    "We’ll talk about a few of the most commonly used ones here and refer you\n",
    "to the\n",
    "[documentation](https://pandas.pydata.org/pandas-docs/stable/generated/pandas.merge.html#pandas.merge)\n",
    "for more details\n",
    "\n",
    "We’ll follow the convention and refer to the first argument to\n",
    "`pd.merge` as `left` and call the second `right` as we discuss"
   ]
  },
  {
   "cell_type": "markdown",
   "metadata": {
    "slideshow": {
     "slide_type": "slide"
    }
   },
   "source": [
    "### `on`\n",
    "\n",
    "We have already seen this one used before, but we want to point out that\n",
    "is optional\n",
    "\n",
    "If nothing is given for this argument, pandas will use **all** columns\n",
    "in `left` and `right` with the same name\n",
    "\n",
    "In our example `Key` is the only column that appears in both\n",
    "DataFrames, so it is used for `on` if we don’t pass anything\n",
    "\n",
    "The following two are equivalent"
   ]
  },
  {
   "cell_type": "code",
   "execution_count": null,
   "metadata": {
    "hide-output": false,
    "slideshow": {
     "slide_type": "slide"
    }
   },
   "outputs": [],
   "source": [
    "pd.merge(df1, df2, on=\"Key\")"
   ]
  },
  {
   "cell_type": "code",
   "execution_count": null,
   "metadata": {
    "hide-output": false,
    "slideshow": {
     "slide_type": "slide"
    }
   },
   "outputs": [],
   "source": [
    "pd.merge(df1, df2)"
   ]
  },
  {
   "cell_type": "markdown",
   "metadata": {
    "slideshow": {
     "slide_type": "slide"
    }
   },
   "source": [
    "### `left_on`, `right_on`\n",
    "\n",
    "Above we used the `on` argument to identify a column in both `left`\n",
    "and `right` that was used to align data\n",
    "\n",
    "Sometimes both DataFrames don’t have the same name for this column\n",
    "\n",
    "In that case we use the `left_on` and `right_on` arguments, passing\n",
    "the column name(s) that should be used to align the data\n",
    "\n",
    "We’ll show you an example below, but it is somewhat silly as our\n",
    "DataFrames do both have the `Key` column"
   ]
  },
  {
   "cell_type": "code",
   "execution_count": null,
   "metadata": {
    "hide-output": false
   },
   "outputs": [],
   "source": []
  },
  {
   "cell_type": "markdown",
   "metadata": {
    "slideshow": {
     "slide_type": "slide"
    }
   },
   "source": [
    "### `left_index`, `right_index`\n",
    "\n",
    "Sometimes the key used to align data is actually in the index instead of\n",
    "one of the columns\n",
    "\n",
    "In this case we can use the `left_index` or `right_index` arguments\n",
    "\n",
    "We should only set these values to a boolean (`True` or `False`)\n",
    "\n",
    "Let’s practice with this\n",
    "\n",
    "<blockquote>\n",
    "\n",
    "**Check for understanding**\n",
    "\n",
    " Using `df22` defined in the cell below, use `pd.merge(df1, df22, XXX)`\n",
    "where you replace `XXX` with whatever is necessary to complete the merge\n",
    "(`XXX` might represent more than one argument).\n",
    "\n",
    "Note that the key for `right` is now in the index\n",
    "\n",
    "Could you set *only* `right_index`? Why or why not? If not, how did you\n",
    "fix it?\n",
    "\n",
    "\n",
    "</blockquote>"
   ]
  },
  {
   "cell_type": "code",
   "execution_count": null,
   "metadata": {
    "hide-output": false
   },
   "outputs": [],
   "source": [
    "df22 = df2.set_index(\"Key\")\n",
    "df22"
   ]
  },
  {
   "cell_type": "code",
   "execution_count": null,
   "metadata": {},
   "outputs": [],
   "source": []
  },
  {
   "cell_type": "code",
   "execution_count": null,
   "metadata": {},
   "outputs": [],
   "source": [
    "# repalce XXX with your code\n",
    "pd.merge(df1, df22, right_index = True, left_on= 'Key')\n"
   ]
  },
  {
   "cell_type": "markdown",
   "metadata": {
    "slideshow": {
     "slide_type": "slide"
    }
   },
   "source": [
    "### `how`\n",
    "\n",
    "The `how` is the argument controls which values from the key column(s) appear in the\n",
    "output\n",
    "\n",
    "There are 4 possible options for this argument, which are summarized in\n",
    "the image below\n",
    "\n",
    "<img src=\"https://storage.googleapis.com/ds4e/_static/merge_files/merge_venns.png\" alt=\"merge\\_venns.png\" style=\"\" width=400>\n",
    "\n"
   ]
  },
  {
   "cell_type": "markdown",
   "metadata": {
    "slideshow": {
     "slide_type": "slide"
    }
   },
   "source": [
    "  \n",
    "In words we have:\n",
    "\n",
    "- `left`: this is the default and what we described above. It uses\n",
    "  the keys from the `left` DataFrame  \n",
    "- `inner`: the output will only contain keys that appear in *both*\n",
    "  `left` and `right`  \n",
    "- `outer`: the output will contain any key found in either `left`\n",
    "  or `right`  \n",
    "- `right`: output will contain all keys from `right`  \n",
    "\n",
    "\n",
    "<blockquote>\n",
    "\n",
    "**Check for understanding**\n",
    "\n",
    "Turn to your neighbor and describe why the output of `pd.merge(df1, df2,\n",
    "how=\"right\")` has more rows than either `df1` or `df2`\n",
    "\n",
    "Run the cell below to see the output of that operation\n",
    "\n",
    "\n",
    "</blockquote>"
   ]
  },
  {
   "cell_type": "code",
   "execution_count": null,
   "metadata": {
    "hide-output": false
   },
   "outputs": [],
   "source": []
  },
  {
   "cell_type": "markdown",
   "metadata": {
    "slideshow": {
     "slide_type": "slide"
    }
   },
   "source": [
    "<blockquote>\n",
    "\n",
    "**Check for understanding**\n",
    "\n",
    "Compare the `how=\"left\"` with `how=\"inner\"`.\n",
    "\n",
    "Also compare `how=\"right\"` and `how=\"outer\"` \n",
    "\n",
    "Explain\n",
    "</blockquote>"
   ]
  },
  {
   "cell_type": "code",
   "execution_count": null,
   "metadata": {
    "hide-output": false
   },
   "outputs": [],
   "source": [
    "# your code here"
   ]
  },
  {
   "cell_type": "markdown",
   "metadata": {},
   "source": [
    "<blockquote>\n",
    "\n",
    "</blockquote>"
   ]
  },
  {
   "cell_type": "markdown",
   "metadata": {},
   "source": [
    "<blockquote>\n",
    "\n",
    "</blockquote>"
   ]
  },
  {
   "cell_type": "markdown",
   "metadata": {
    "slideshow": {
     "slide_type": "slide"
    }
   },
   "source": [
    "<blockquote>\n",
    "\n",
    "**Check for understanding**\n",
    "\n",
    "How can you do a `how=\"right\"` merge, but only bring in column `C1`\n",
    "from `df1`? Show your answer\n",
    "\n",
    "\n",
    "</blockquote>"
   ]
  },
  {
   "cell_type": "code",
   "execution_count": null,
   "metadata": {
    "hide-output": false
   },
   "outputs": [],
   "source": [
    "# modify this code to answer the question...\n"
   ]
  },
  {
   "cell_type": "markdown",
   "metadata": {},
   "source": [
    "<blockquote>\n",
    "\n",
    "</blockquote>"
   ]
  },
  {
   "cell_type": "markdown",
   "metadata": {
    "slideshow": {
     "slide_type": "slide"
    }
   },
   "source": [
    "### `df.merge(df2)`\n",
    "\n",
    "Note that there is a `merge` *method* for the DataFrame type\n",
    "\n",
    "It is the same as the function we have been working with, but passes the\n",
    "DataFrame before the period as `left`\n",
    "\n",
    "Thus `df.merge(other)` is equivalent to `pd.merge(df, other)`"
   ]
  },
  {
   "cell_type": "code",
   "execution_count": null,
   "metadata": {
    "hide-output": false
   },
   "outputs": [],
   "source": [
    "df1.merge(df2, how=\"right\")"
   ]
  },
  {
   "cell_type": "markdown",
   "metadata": {
    "slideshow": {
     "slide_type": "slide"
    }
   },
   "source": [
    "## `df.join`\n",
    "\n",
    "The `join` method for a DataFrame is very similar to the `merge`\n",
    "method described above, but only allows you to use the index of the\n",
    "`right` DataFrame as the join key\n",
    "\n",
    "Thus `left.join(right, on=\"key\")` is equivalent to calling\n",
    "`pd.merge(left, right, left_on=\"key\", right_index=True)`\n",
    "\n",
    "The implementation of the `join` method calls `merge` internally,\n",
    "but sets the `left_on` and `right_index` arguments for you\n",
    "\n",
    "There is nothing you can do with `df.join` that can’t be done with\n",
    "`df.merge`, but it is more convenient to use if the keys of `right`\n",
    "are in the index"
   ]
  },
  {
   "cell_type": "code",
   "execution_count": null,
   "metadata": {
    "hide-output": false
   },
   "outputs": [],
   "source": [
    "df1.join(df22, on=\"Key\")"
   ]
  },
  {
   "cell_type": "code",
   "execution_count": null,
   "metadata": {
    "hide-output": false
   },
   "outputs": [],
   "source": [
    "df1.merge(df22, left_on=\"Key\", right_index=True)"
   ]
  },
  {
   "cell_type": "markdown",
   "metadata": {
    "slideshow": {
     "slide_type": "slide"
    }
   },
   "source": [
    "# Week 8 Group Lab\n",
    "## Questions 1\n",
    "\n",
    "The following code loads a cleaned piece of census data from Statistics Canada"
   ]
  },
  {
   "cell_type": "code",
   "execution_count": 18,
   "metadata": {
    "hide-output": false
   },
   "outputs": [],
   "source": [
    "import matplotlib.pyplot as plt\n",
    "import numpy as np\n",
    "import pandas as pd\n",
    "\n",
    "%matplotlib inline"
   ]
  },
  {
   "cell_type": "code",
   "execution_count": 19,
   "metadata": {
    "hide-output": false
   },
   "outputs": [
    {
     "data": {
      "text/html": [
       "<div>\n",
       "<style scoped>\n",
       "    .dataframe tbody tr th:only-of-type {\n",
       "        vertical-align: middle;\n",
       "    }\n",
       "\n",
       "    .dataframe tbody tr th {\n",
       "        vertical-align: top;\n",
       "    }\n",
       "\n",
       "    .dataframe thead th {\n",
       "        text-align: right;\n",
       "    }\n",
       "</style>\n",
       "<table border=\"1\" class=\"dataframe\">\n",
       "  <thead>\n",
       "    <tr style=\"text-align: right;\">\n",
       "      <th></th>\n",
       "      <th>CDcode</th>\n",
       "      <th>Pname</th>\n",
       "      <th>Population</th>\n",
       "      <th>CollegeEducated</th>\n",
       "      <th>PercentOwnHouse</th>\n",
       "      <th>Income</th>\n",
       "    </tr>\n",
       "  </thead>\n",
       "  <tbody>\n",
       "    <tr>\n",
       "      <td>0</td>\n",
       "      <td>1001</td>\n",
       "      <td>Newfoundland and Labrador</td>\n",
       "      <td>270350</td>\n",
       "      <td>24.8</td>\n",
       "      <td>74.1</td>\n",
       "      <td>74676</td>\n",
       "    </tr>\n",
       "    <tr>\n",
       "      <td>1</td>\n",
       "      <td>1002</td>\n",
       "      <td>Newfoundland and Labrador</td>\n",
       "      <td>20370</td>\n",
       "      <td>7.5</td>\n",
       "      <td>86.3</td>\n",
       "      <td>60912</td>\n",
       "    </tr>\n",
       "    <tr>\n",
       "      <td>2</td>\n",
       "      <td>1003</td>\n",
       "      <td>Newfoundland and Labrador</td>\n",
       "      <td>15560</td>\n",
       "      <td>7.3</td>\n",
       "      <td>86.0</td>\n",
       "      <td>56224</td>\n",
       "    </tr>\n",
       "    <tr>\n",
       "      <td>3</td>\n",
       "      <td>1004</td>\n",
       "      <td>Newfoundland and Labrador</td>\n",
       "      <td>20385</td>\n",
       "      <td>10.9</td>\n",
       "      <td>73.7</td>\n",
       "      <td>44282</td>\n",
       "    </tr>\n",
       "    <tr>\n",
       "      <td>4</td>\n",
       "      <td>1005</td>\n",
       "      <td>Newfoundland and Labrador</td>\n",
       "      <td>42015</td>\n",
       "      <td>17.0</td>\n",
       "      <td>73.9</td>\n",
       "      <td>62565</td>\n",
       "    </tr>\n",
       "  </tbody>\n",
       "</table>\n",
       "</div>"
      ],
      "text/plain": [
       "   CDcode                      Pname  Population  CollegeEducated  \\\n",
       "0    1001  Newfoundland and Labrador      270350             24.8   \n",
       "1    1002  Newfoundland and Labrador       20370              7.5   \n",
       "2    1003  Newfoundland and Labrador       15560              7.3   \n",
       "3    1004  Newfoundland and Labrador       20385             10.9   \n",
       "4    1005  Newfoundland and Labrador       42015             17.0   \n",
       "\n",
       "   PercentOwnHouse  Income  \n",
       "0             74.1   74676  \n",
       "1             86.3   60912  \n",
       "2             86.0   56224  \n",
       "3             73.7   44282  \n",
       "4             73.9   62565  "
      ]
     },
     "execution_count": 19,
     "metadata": {},
     "output_type": "execute_result"
    }
   ],
   "source": [
    "df = pd.read_csv(\"https://raw.githubusercontent.com/BUSN32100/data_files/master/canada_census.csv\")\n",
    "df.head()"
   ]
  },
  {
   "cell_type": "markdown",
   "metadata": {},
   "source": [
    "A *census division* is a geographical area, smaller than a Canadian province, that is used to\n",
    "organize information at a slightly more granular level than by province or by city. The census\n",
    "divisions are shown below\n",
    "\n",
    "<img src=\"https://storage.googleapis.com/qeds/_static/pandas_files/canada_censusdivisions_map.png\" alt=\"canada_censusdivision_map.png\" style=\"\" width= 700>\n",
    "\n",
    "  \n",
    "The data read in above contains information on the population, percent of population with a college\n",
    "degree, percent of population who own their house/apartment, and the median after-tax income at the\n",
    "*census division* level\n",
    "\n",
    "Hint: the `groupby` is the key here.  You will need to practice different split, apply, and combine options"
   ]
  },
  {
   "cell_type": "markdown",
   "metadata": {},
   "source": [
    "### Question 1a\n",
    "\n",
    "Assume that you were to have a separate data source with province codesand the province names. With this, either merge or join these province codes into the census dataframe to provide province codes for each province\n",
    "  name. Hint: you need to figure out which “key” matches in the merge, and don’t be afraid to rename columns for convenience"
   ]
  },
  {
   "cell_type": "code",
   "execution_count": 20,
   "metadata": {
    "hide-output": false
   },
   "outputs": [
    {
     "data": {
      "text/html": [
       "<div>\n",
       "<style scoped>\n",
       "    .dataframe tbody tr th:only-of-type {\n",
       "        vertical-align: middle;\n",
       "    }\n",
       "\n",
       "    .dataframe tbody tr th {\n",
       "        vertical-align: top;\n",
       "    }\n",
       "\n",
       "    .dataframe thead th {\n",
       "        text-align: right;\n",
       "    }\n",
       "</style>\n",
       "<table border=\"1\" class=\"dataframe\">\n",
       "  <thead>\n",
       "    <tr style=\"text-align: right;\">\n",
       "      <th></th>\n",
       "      <th>Pname</th>\n",
       "      <th>Code</th>\n",
       "    </tr>\n",
       "  </thead>\n",
       "  <tbody>\n",
       "    <tr>\n",
       "      <td>0</td>\n",
       "      <td>Newfoundland and Labrador</td>\n",
       "      <td>NL</td>\n",
       "    </tr>\n",
       "    <tr>\n",
       "      <td>1</td>\n",
       "      <td>Prince Edward Island</td>\n",
       "      <td>PE</td>\n",
       "    </tr>\n",
       "    <tr>\n",
       "      <td>2</td>\n",
       "      <td>Nova Scotia</td>\n",
       "      <td>NS</td>\n",
       "    </tr>\n",
       "    <tr>\n",
       "      <td>3</td>\n",
       "      <td>New Brunswick</td>\n",
       "      <td>NB</td>\n",
       "    </tr>\n",
       "    <tr>\n",
       "      <td>4</td>\n",
       "      <td>Quebec</td>\n",
       "      <td>QC</td>\n",
       "    </tr>\n",
       "    <tr>\n",
       "      <td>5</td>\n",
       "      <td>Ontario</td>\n",
       "      <td>ON</td>\n",
       "    </tr>\n",
       "    <tr>\n",
       "      <td>6</td>\n",
       "      <td>Manitoba</td>\n",
       "      <td>MB</td>\n",
       "    </tr>\n",
       "    <tr>\n",
       "      <td>7</td>\n",
       "      <td>Saskatchewan</td>\n",
       "      <td>SK</td>\n",
       "    </tr>\n",
       "    <tr>\n",
       "      <td>8</td>\n",
       "      <td>Alberta</td>\n",
       "      <td>AB</td>\n",
       "    </tr>\n",
       "    <tr>\n",
       "      <td>9</td>\n",
       "      <td>British Columbia</td>\n",
       "      <td>BC</td>\n",
       "    </tr>\n",
       "    <tr>\n",
       "      <td>10</td>\n",
       "      <td>Yukon</td>\n",
       "      <td>YT</td>\n",
       "    </tr>\n",
       "    <tr>\n",
       "      <td>11</td>\n",
       "      <td>Northwest Territories</td>\n",
       "      <td>NT</td>\n",
       "    </tr>\n",
       "    <tr>\n",
       "      <td>12</td>\n",
       "      <td>Nunavut</td>\n",
       "      <td>NU</td>\n",
       "    </tr>\n",
       "  </tbody>\n",
       "</table>\n",
       "</div>"
      ],
      "text/plain": [
       "                        Pname Code\n",
       "0   Newfoundland and Labrador   NL\n",
       "1        Prince Edward Island   PE\n",
       "2                 Nova Scotia   NS\n",
       "3               New Brunswick   NB\n",
       "4                      Quebec   QC\n",
       "5                     Ontario   ON\n",
       "6                    Manitoba   MB\n",
       "7                Saskatchewan   SK\n",
       "8                     Alberta   AB\n",
       "9            British Columbia   BC\n",
       "10                      Yukon   YT\n",
       "11      Northwest Territories   NT\n",
       "12                    Nunavut   NU"
      ]
     },
     "execution_count": 20,
     "metadata": {},
     "output_type": "execute_result"
    }
   ],
   "source": [
    "df_provincecodes = pd.DataFrame({\n",
    "    \"Pname\" : [ 'Newfoundland and Labrador', 'Prince Edward Island', 'Nova Scotia',\n",
    "                'New Brunswick', 'Quebec', 'Ontario', 'Manitoba', 'Saskatchewan',\n",
    "                'Alberta', 'British Columbia', 'Yukon', 'Northwest Territories','Nunavut'],\n",
    "    \"Code\" : ['NL', 'PE', 'NS', 'NB', 'QC', 'ON', 'MB', 'SK', 'AB', 'BC', 'YT', 'NT', 'NU']\n",
    "            })\n",
    "df_provincecodes"
   ]
  },
  {
   "cell_type": "code",
   "execution_count": 21,
   "metadata": {
    "hide-output": false
   },
   "outputs": [],
   "source": [
    "# Your code here\n",
    "\n",
    "df = df.merge(df_provincecodes , on=\"Pname\")\n"
   ]
  },
  {
   "cell_type": "markdown",
   "metadata": {},
   "source": [
    "### Question 1b\n",
    "\n",
    "1. Drop the province names from the resulting dataframe in Q1a, using `df = df.drop(columns=['col_to_drop1',col_to_drop2'])`\n",
    "1. Rename the column with the province codes to be “Province”.  Hint: `.rename(columns = <YOURDICTIONARY>)`  "
   ]
  },
  {
   "cell_type": "code",
   "execution_count": 22,
   "metadata": {},
   "outputs": [],
   "source": [
    "df\n",
    "df = df.drop(columns=['Pname'])\n",
    "df= df.rename(columns={\"Code\": \"Province\"})"
   ]
  },
  {
   "cell_type": "markdown",
   "metadata": {},
   "source": [
    "### Question 1c\n",
    "\n",
    "Which province has the highest population? Which has the lowest?"
   ]
  },
  {
   "cell_type": "code",
   "execution_count": 23,
   "metadata": {
    "hide-output": false
   },
   "outputs": [
    {
     "data": {
      "text/plain": [
       "Province\n",
       "ON    13448490\n",
       "Name: Population, dtype: int64"
      ]
     },
     "execution_count": 23,
     "metadata": {},
     "output_type": "execute_result"
    }
   ],
   "source": [
    "# Your code here\n",
    "df\n",
    "\n",
    "df.groupby([\"Province\"])[\"Population\"].sum().nlargest(1)"
   ]
  },
  {
   "cell_type": "markdown",
   "metadata": {},
   "source": [
    "### Question 1d\n",
    "\n",
    "Show a bar plot and a pie plot of the population of the provinces.  Hint: after the split-apply-combine, you can use `.plot.bar()` or `.plot(kind='bar')` for bar plot and `.plot.pie()` or `.plot(kind='pie')` for pie plot"
   ]
  },
  {
   "cell_type": "code",
   "execution_count": 24,
   "metadata": {
    "hide-output": false
   },
   "outputs": [
    {
     "data": {
      "image/png": "[encoded data removed]",
      "text/plain": [
       "<Figure size 432x288 with 1 Axes>"
      ]
     },
     "metadata": {},
     "output_type": "display_data"
    },
    {
     "data": {
      "image/png": "[encoded data removed]",
      "text/plain": [
       "<Figure size 432x288 with 1 Axes>"
      ]
     },
     "metadata": {
      "needs_background": "light"
     },
     "output_type": "display_data"
    }
   ],
   "source": [
    "# Your code here\n",
    "df.groupby([\"Province\"])[\"Population\"].sum().plot.pie()\n",
    "plt.show()\n",
    "df.groupby([\"Province\"])[\"Population\"].sum().plot.bar()\n",
    "plt.show()"
   ]
  },
  {
   "cell_type": "markdown",
   "metadata": {},
   "source": [
    "df"
   ]
  },
  {
   "cell_type": "code",
   "execution_count": 25,
   "metadata": {},
   "outputs": [
    {
     "data": {
      "text/html": [
       "<div>\n",
       "<style scoped>\n",
       "    .dataframe tbody tr th:only-of-type {\n",
       "        vertical-align: middle;\n",
       "    }\n",
       "\n",
       "    .dataframe tbody tr th {\n",
       "        vertical-align: top;\n",
       "    }\n",
       "\n",
       "    .dataframe thead th {\n",
       "        text-align: right;\n",
       "    }\n",
       "</style>\n",
       "<table border=\"1\" class=\"dataframe\">\n",
       "  <thead>\n",
       "    <tr style=\"text-align: right;\">\n",
       "      <th></th>\n",
       "      <th>CDcode</th>\n",
       "      <th>Population</th>\n",
       "      <th>CollegeEducated</th>\n",
       "      <th>PercentOwnHouse</th>\n",
       "      <th>Income</th>\n",
       "      <th>Province</th>\n",
       "    </tr>\n",
       "  </thead>\n",
       "  <tbody>\n",
       "    <tr>\n",
       "      <td>0</td>\n",
       "      <td>1001</td>\n",
       "      <td>270350</td>\n",
       "      <td>24.8</td>\n",
       "      <td>74.1</td>\n",
       "      <td>74676</td>\n",
       "      <td>NL</td>\n",
       "    </tr>\n",
       "    <tr>\n",
       "      <td>1</td>\n",
       "      <td>1002</td>\n",
       "      <td>20370</td>\n",
       "      <td>7.5</td>\n",
       "      <td>86.3</td>\n",
       "      <td>60912</td>\n",
       "      <td>NL</td>\n",
       "    </tr>\n",
       "    <tr>\n",
       "      <td>2</td>\n",
       "      <td>1003</td>\n",
       "      <td>15560</td>\n",
       "      <td>7.3</td>\n",
       "      <td>86.0</td>\n",
       "      <td>56224</td>\n",
       "      <td>NL</td>\n",
       "    </tr>\n",
       "    <tr>\n",
       "      <td>3</td>\n",
       "      <td>1004</td>\n",
       "      <td>20385</td>\n",
       "      <td>10.9</td>\n",
       "      <td>73.7</td>\n",
       "      <td>44282</td>\n",
       "      <td>NL</td>\n",
       "    </tr>\n",
       "    <tr>\n",
       "      <td>4</td>\n",
       "      <td>1005</td>\n",
       "      <td>42015</td>\n",
       "      <td>17.0</td>\n",
       "      <td>73.9</td>\n",
       "      <td>62565</td>\n",
       "      <td>NL</td>\n",
       "    </tr>\n",
       "    <tr>\n",
       "      <td>...</td>\n",
       "      <td>...</td>\n",
       "      <td>...</td>\n",
       "      <td>...</td>\n",
       "      <td>...</td>\n",
       "      <td>...</td>\n",
       "      <td>...</td>\n",
       "    </tr>\n",
       "    <tr>\n",
       "      <td>288</td>\n",
       "      <td>6105</td>\n",
       "      <td>6980</td>\n",
       "      <td>17.7</td>\n",
       "      <td>61.8</td>\n",
       "      <td>104302</td>\n",
       "      <td>NT</td>\n",
       "    </tr>\n",
       "    <tr>\n",
       "      <td>289</td>\n",
       "      <td>6106</td>\n",
       "      <td>20090</td>\n",
       "      <td>33.7</td>\n",
       "      <td>56.8</td>\n",
       "      <td>141700</td>\n",
       "      <td>NT</td>\n",
       "    </tr>\n",
       "    <tr>\n",
       "      <td>290</td>\n",
       "      <td>6204</td>\n",
       "      <td>18990</td>\n",
       "      <td>17.8</td>\n",
       "      <td>19.3</td>\n",
       "      <td>104896</td>\n",
       "      <td>NU</td>\n",
       "    </tr>\n",
       "    <tr>\n",
       "      <td>291</td>\n",
       "      <td>6205</td>\n",
       "      <td>10410</td>\n",
       "      <td>10.0</td>\n",
       "      <td>22.2</td>\n",
       "      <td>93294</td>\n",
       "      <td>NU</td>\n",
       "    </tr>\n",
       "    <tr>\n",
       "      <td>292</td>\n",
       "      <td>6208</td>\n",
       "      <td>6545</td>\n",
       "      <td>9.8</td>\n",
       "      <td>18.6</td>\n",
       "      <td>77397</td>\n",
       "      <td>NU</td>\n",
       "    </tr>\n",
       "  </tbody>\n",
       "</table>\n",
       "<p>293 rows × 6 columns</p>\n",
       "</div>"
      ],
      "text/plain": [
       "     CDcode  Population  CollegeEducated  PercentOwnHouse  Income Province\n",
       "0      1001      270350             24.8             74.1   74676       NL\n",
       "1      1002       20370              7.5             86.3   60912       NL\n",
       "2      1003       15560              7.3             86.0   56224       NL\n",
       "3      1004       20385             10.9             73.7   44282       NL\n",
       "4      1005       42015             17.0             73.9   62565       NL\n",
       "..      ...         ...              ...              ...     ...      ...\n",
       "288    6105        6980             17.7             61.8  104302       NT\n",
       "289    6106       20090             33.7             56.8  141700       NT\n",
       "290    6204       18990             17.8             19.3  104896       NU\n",
       "291    6205       10410             10.0             22.2   93294       NU\n",
       "292    6208        6545              9.8             18.6   77397       NU\n",
       "\n",
       "[293 rows x 6 columns]"
      ]
     },
     "execution_count": 25,
     "metadata": {},
     "output_type": "execute_result"
    }
   ],
   "source": [
    "df"
   ]
  },
  {
   "cell_type": "markdown",
   "metadata": {},
   "source": [
    "### Question 1e\n",
    "\n",
    "Assuming `CollegeEducated` contains the percentage of College Educated population. Which province has the highest total of individuals with a college education? Which has the\n",
    "lowest?"
   ]
  },
  {
   "cell_type": "code",
   "execution_count": 26,
   "metadata": {},
   "outputs": [],
   "source": [
    "def wsum(group, avg_name, weight_name):\n",
    " \n",
    "    d = group[avg_name]\n",
    "    w = group[weight_name] / 100\n",
    "    try:\n",
    "        return (d * w).sum()\n",
    "    except ZeroDivisionError:\n",
    "        return 0\n",
    "    \n",
    "    "
   ]
  },
  {
   "cell_type": "code",
   "execution_count": 27,
   "metadata": {},
   "outputs": [
    {
     "data": {
      "text/plain": [
       "Province\n",
       "ON    4246014.94\n",
       "dtype: float64"
      ]
     },
     "execution_count": 27,
     "metadata": {},
     "output_type": "execute_result"
    }
   ],
   "source": [
    "df.groupby([\"Province\"]).apply(wsum ,  \"CollegeEducated\" ,\"Population\").nlargest(1)"
   ]
  },
  {
   "cell_type": "code",
   "execution_count": 28,
   "metadata": {},
   "outputs": [
    {
     "data": {
      "text/plain": [
       "Province\n",
       "NU    5062.63\n",
       "dtype: float64"
      ]
     },
     "execution_count": 28,
     "metadata": {},
     "output_type": "execute_result"
    }
   ],
   "source": [
    "df.groupby([\"Province\"]).apply(wsum , \"Population\", \"CollegeEducated\").nsmallest(1)"
   ]
  },
  {
   "cell_type": "markdown",
   "metadata": {},
   "source": [
    "### Question 1f\n",
    "\n",
    "Which province has the highest percent of individuals with a college education? Which has the\n",
    "lowest?\n",
    "\n",
    "Hint: Remember to weight this calculation by population! Search with keyword \"groupby weighted average pandas\", or something similar"
   ]
  },
  {
   "cell_type": "code",
   "execution_count": 29,
   "metadata": {
    "hide-output": false
   },
   "outputs": [],
   "source": [
    "# Your code here\n",
    "\n",
    "def wavg(group, avg_name, weight_name):\n",
    " \n",
    "    d = group[avg_name]\n",
    "    w = group[weight_name] /100\n",
    "    try:\n",
    "        return (d * w).sum()/w.sum()\n",
    "    except ZeroDivisionError:\n",
    "        return 0\n"
   ]
  },
  {
   "cell_type": "code",
   "execution_count": 30,
   "metadata": {},
   "outputs": [
    {
     "data": {
      "text/plain": [
       "Province\n",
       "NU    14.084379\n",
       "NL    18.210857\n",
       "NB    20.168363\n",
       "dtype: float64"
      ]
     },
     "execution_count": 30,
     "metadata": {},
     "output_type": "execute_result"
    }
   ],
   "source": [
    "df.groupby([\"Province\"]).apply(wavg , \"CollegeEducated\" ,\"Population\").nsmallest(3)"
   ]
  },
  {
   "cell_type": "code",
   "execution_count": 31,
   "metadata": {},
   "outputs": [
    {
     "data": {
      "text/plain": [
       "Province\n",
       "ON    31.572429\n",
       "YT    30.100000\n",
       "BC    29.589973\n",
       "dtype: float64"
      ]
     },
     "execution_count": 31,
     "metadata": {},
     "output_type": "execute_result"
    }
   ],
   "source": [
    "df.groupby([\"Province\"]).apply(wavg , \"CollegeEducated\" ,\"Population\").nlargest(3)"
   ]
  },
  {
   "cell_type": "markdown",
   "metadata": {},
   "source": [
    "### Question 1g\n",
    "\n",
    "What is the census division `CDcode` with the highest median income in each province?"
   ]
  },
  {
   "cell_type": "code",
   "execution_count": 32,
   "metadata": {},
   "outputs": [],
   "source": [
    "f = {'Income': ['max']}"
   ]
  },
  {
   "cell_type": "code",
   "execution_count": 33,
   "metadata": {
    "hide-output": false
   },
   "outputs": [
    {
     "data": {
      "text/html": [
       "<div>\n",
       "<style scoped>\n",
       "    .dataframe tbody tr th:only-of-type {\n",
       "        vertical-align: middle;\n",
       "    }\n",
       "\n",
       "    .dataframe tbody tr th {\n",
       "        vertical-align: top;\n",
       "    }\n",
       "\n",
       "    .dataframe thead tr th {\n",
       "        text-align: left;\n",
       "    }\n",
       "\n",
       "    .dataframe thead tr:last-of-type th {\n",
       "        text-align: right;\n",
       "    }\n",
       "</style>\n",
       "<table border=\"1\" class=\"dataframe\">\n",
       "  <thead>\n",
       "    <tr>\n",
       "      <th></th>\n",
       "      <th>Income</th>\n",
       "    </tr>\n",
       "    <tr>\n",
       "      <th></th>\n",
       "      <th>max</th>\n",
       "    </tr>\n",
       "    <tr>\n",
       "      <th>Province</th>\n",
       "      <th></th>\n",
       "    </tr>\n",
       "  </thead>\n",
       "  <tbody>\n",
       "    <tr>\n",
       "      <td>AB</td>\n",
       "      <td>192979</td>\n",
       "    </tr>\n",
       "    <tr>\n",
       "      <td>BC</td>\n",
       "      <td>94002</td>\n",
       "    </tr>\n",
       "    <tr>\n",
       "      <td>MB</td>\n",
       "      <td>109483</td>\n",
       "    </tr>\n",
       "    <tr>\n",
       "      <td>NB</td>\n",
       "      <td>76290</td>\n",
       "    </tr>\n",
       "    <tr>\n",
       "      <td>NL</td>\n",
       "      <td>112768</td>\n",
       "    </tr>\n",
       "    <tr>\n",
       "      <td>NS</td>\n",
       "      <td>69522</td>\n",
       "    </tr>\n",
       "    <tr>\n",
       "      <td>NT</td>\n",
       "      <td>141700</td>\n",
       "    </tr>\n",
       "    <tr>\n",
       "      <td>NU</td>\n",
       "      <td>104896</td>\n",
       "    </tr>\n",
       "    <tr>\n",
       "      <td>ON</td>\n",
       "      <td>103009</td>\n",
       "    </tr>\n",
       "    <tr>\n",
       "      <td>PE</td>\n",
       "      <td>63770</td>\n",
       "    </tr>\n",
       "    <tr>\n",
       "      <td>QC</td>\n",
       "      <td>90884</td>\n",
       "    </tr>\n",
       "    <tr>\n",
       "      <td>SK</td>\n",
       "      <td>87916</td>\n",
       "    </tr>\n",
       "    <tr>\n",
       "      <td>YT</td>\n",
       "      <td>84521</td>\n",
       "    </tr>\n",
       "  </tbody>\n",
       "</table>\n",
       "</div>"
      ],
      "text/plain": [
       "          Income\n",
       "             max\n",
       "Province        \n",
       "AB        192979\n",
       "BC         94002\n",
       "MB        109483\n",
       "NB         76290\n",
       "NL        112768\n",
       "NS         69522\n",
       "NT        141700\n",
       "NU        104896\n",
       "ON        103009\n",
       "PE         63770\n",
       "QC         90884\n",
       "SK         87916\n",
       "YT         84521"
      ]
     },
     "execution_count": 33,
     "metadata": {},
     "output_type": "execute_result"
    }
   ],
   "source": [
    "# Your code here\n",
    "df.groupby([\"Province\"]).agg(f)"
   ]
  },
  {
   "cell_type": "markdown",
   "metadata": {},
   "source": [
    "### Question 1h\n",
    "\n",
    "By province, what is the total population of census areas where more than 80 percent of the population own houses"
   ]
  },
  {
   "cell_type": "code",
   "execution_count": 34,
   "metadata": {
    "hide-output": false
   },
   "outputs": [
    {
     "data": {
      "text/html": [
       "<div>\n",
       "<style scoped>\n",
       "    .dataframe tbody tr th:only-of-type {\n",
       "        vertical-align: middle;\n",
       "    }\n",
       "\n",
       "    .dataframe tbody tr th {\n",
       "        vertical-align: top;\n",
       "    }\n",
       "\n",
       "    .dataframe thead tr th {\n",
       "        text-align: left;\n",
       "    }\n",
       "\n",
       "    .dataframe thead tr:last-of-type th {\n",
       "        text-align: right;\n",
       "    }\n",
       "</style>\n",
       "<table border=\"1\" class=\"dataframe\">\n",
       "  <thead>\n",
       "    <tr>\n",
       "      <th></th>\n",
       "      <th>Population</th>\n",
       "    </tr>\n",
       "    <tr>\n",
       "      <th></th>\n",
       "      <th>sum</th>\n",
       "    </tr>\n",
       "    <tr>\n",
       "      <th>Province</th>\n",
       "      <th></th>\n",
       "    </tr>\n",
       "  </thead>\n",
       "  <tbody>\n",
       "    <tr>\n",
       "      <td>AB</td>\n",
       "      <td>122155</td>\n",
       "    </tr>\n",
       "    <tr>\n",
       "      <td>BC</td>\n",
       "      <td>31445</td>\n",
       "    </tr>\n",
       "    <tr>\n",
       "      <td>MB</td>\n",
       "      <td>220595</td>\n",
       "    </tr>\n",
       "    <tr>\n",
       "      <td>NB</td>\n",
       "      <td>133995</td>\n",
       "    </tr>\n",
       "    <tr>\n",
       "      <td>NL</td>\n",
       "      <td>121425</td>\n",
       "    </tr>\n",
       "    <tr>\n",
       "      <td>NS</td>\n",
       "      <td>68585</td>\n",
       "    </tr>\n",
       "    <tr>\n",
       "      <td>ON</td>\n",
       "      <td>2915560</td>\n",
       "    </tr>\n",
       "    <tr>\n",
       "      <td>PE</td>\n",
       "      <td>17160</td>\n",
       "    </tr>\n",
       "    <tr>\n",
       "      <td>QC</td>\n",
       "      <td>508075</td>\n",
       "    </tr>\n",
       "    <tr>\n",
       "      <td>SK</td>\n",
       "      <td>36595</td>\n",
       "    </tr>\n",
       "  </tbody>\n",
       "</table>\n",
       "</div>"
      ],
      "text/plain": [
       "         Population\n",
       "                sum\n",
       "Province           \n",
       "AB           122155\n",
       "BC            31445\n",
       "MB           220595\n",
       "NB           133995\n",
       "NL           121425\n",
       "NS            68585\n",
       "ON          2915560\n",
       "PE            17160\n",
       "QC           508075\n",
       "SK            36595"
      ]
     },
     "execution_count": 34,
     "metadata": {},
     "output_type": "execute_result"
    }
   ],
   "source": [
    "# Your code here\n",
    "f2 = { 'Population' : ['sum'] }\n",
    "# Your code here\n",
    "\n",
    "df.loc[(df['PercentOwnHouse'] > 80), ].groupby([\"Province\"]).agg(f2)"
   ]
  },
  {
   "cell_type": "markdown",
   "metadata": {},
   "source": [
    "### Question 1i\n",
    "\n",
    "By province, what is the median income and average proportion college educated of census areas\n",
    "where more than 80 percent of the population own houses"
   ]
  },
  {
   "cell_type": "code",
   "execution_count": 35,
   "metadata": {
    "hide-output": false
   },
   "outputs": [
    {
     "data": {
      "text/html": [
       "<div>\n",
       "<style scoped>\n",
       "    .dataframe tbody tr th:only-of-type {\n",
       "        vertical-align: middle;\n",
       "    }\n",
       "\n",
       "    .dataframe tbody tr th {\n",
       "        vertical-align: top;\n",
       "    }\n",
       "\n",
       "    .dataframe thead tr th {\n",
       "        text-align: left;\n",
       "    }\n",
       "\n",
       "    .dataframe thead tr:last-of-type th {\n",
       "        text-align: right;\n",
       "    }\n",
       "</style>\n",
       "<table border=\"1\" class=\"dataframe\">\n",
       "  <thead>\n",
       "    <tr>\n",
       "      <th></th>\n",
       "      <th>Income</th>\n",
       "      <th>CollegeEducated</th>\n",
       "      <th>Population</th>\n",
       "    </tr>\n",
       "    <tr>\n",
       "      <th></th>\n",
       "      <th>median</th>\n",
       "      <th>mean</th>\n",
       "      <th>sum</th>\n",
       "    </tr>\n",
       "    <tr>\n",
       "      <th>Province</th>\n",
       "      <th></th>\n",
       "      <th></th>\n",
       "      <th></th>\n",
       "    </tr>\n",
       "  </thead>\n",
       "  <tbody>\n",
       "    <tr>\n",
       "      <td>AB</td>\n",
       "      <td>82013</td>\n",
       "      <td>10.200000</td>\n",
       "      <td>122155</td>\n",
       "    </tr>\n",
       "    <tr>\n",
       "      <td>BC</td>\n",
       "      <td>59721</td>\n",
       "      <td>16.000000</td>\n",
       "      <td>31445</td>\n",
       "    </tr>\n",
       "    <tr>\n",
       "      <td>MB</td>\n",
       "      <td>80718</td>\n",
       "      <td>16.400000</td>\n",
       "      <td>220595</td>\n",
       "    </tr>\n",
       "    <tr>\n",
       "      <td>NB</td>\n",
       "      <td>61111</td>\n",
       "      <td>17.300000</td>\n",
       "      <td>133995</td>\n",
       "    </tr>\n",
       "    <tr>\n",
       "      <td>NL</td>\n",
       "      <td>57183</td>\n",
       "      <td>7.780000</td>\n",
       "      <td>121425</td>\n",
       "    </tr>\n",
       "    <tr>\n",
       "      <td>NS</td>\n",
       "      <td>51176</td>\n",
       "      <td>12.116667</td>\n",
       "      <td>68585</td>\n",
       "    </tr>\n",
       "    <tr>\n",
       "      <td>ON</td>\n",
       "      <td>70447</td>\n",
       "      <td>19.800000</td>\n",
       "      <td>2915560</td>\n",
       "    </tr>\n",
       "    <tr>\n",
       "      <td>PE</td>\n",
       "      <td>57799</td>\n",
       "      <td>14.600000</td>\n",
       "      <td>17160</td>\n",
       "    </tr>\n",
       "    <tr>\n",
       "      <td>QC</td>\n",
       "      <td>78913</td>\n",
       "      <td>21.144444</td>\n",
       "      <td>508075</td>\n",
       "    </tr>\n",
       "    <tr>\n",
       "      <td>SK</td>\n",
       "      <td>70117</td>\n",
       "      <td>12.400000</td>\n",
       "      <td>36595</td>\n",
       "    </tr>\n",
       "  </tbody>\n",
       "</table>\n",
       "</div>"
      ],
      "text/plain": [
       "         Income CollegeEducated Population\n",
       "         median            mean        sum\n",
       "Province                                  \n",
       "AB        82013       10.200000     122155\n",
       "BC        59721       16.000000      31445\n",
       "MB        80718       16.400000     220595\n",
       "NB        61111       17.300000     133995\n",
       "NL        57183        7.780000     121425\n",
       "NS        51176       12.116667      68585\n",
       "ON        70447       19.800000    2915560\n",
       "PE        57799       14.600000      17160\n",
       "QC        78913       21.144444     508075\n",
       "SK        70117       12.400000      36595"
      ]
     },
     "execution_count": 35,
     "metadata": {},
     "output_type": "execute_result"
    }
   ],
   "source": [
    "f1 = {'Income': ['median'] , 'CollegeEducated' : ['mean'] , 'Population' : ['sum'] }\n",
    "# Your code here\n",
    "\n",
    "df.loc[(df['PercentOwnHouse'] > 80), ].groupby([\"Province\"]).agg(f1)"
   ]
  },
  {
   "cell_type": "markdown",
   "metadata": {},
   "source": [
    "### Question 1j\n",
    "\n",
    "Classify the census areas into low, medium, and highly educated based on the college educated,\n",
    "where “low” is college educated of less than 10 percent, “medium” is between 10 and 20 percent and “high” is more than 20 percent\n",
    "\n",
    "Based on that classification find the average income weighted by population for each of the low, medium, high education groups. Show the results with `Province` as index and three columns,  `low`, `medium` and `high`."
   ]
  },
  {
   "cell_type": "code",
   "execution_count": 36,
   "metadata": {
    "hide-output": false
   },
   "outputs": [
    {
     "data": {
      "text/html": [
       "<div>\n",
       "<style scoped>\n",
       "    .dataframe tbody tr th:only-of-type {\n",
       "        vertical-align: middle;\n",
       "    }\n",
       "\n",
       "    .dataframe tbody tr th {\n",
       "        vertical-align: top;\n",
       "    }\n",
       "\n",
       "    .dataframe thead tr th {\n",
       "        text-align: left;\n",
       "    }\n",
       "\n",
       "    .dataframe thead tr:last-of-type th {\n",
       "        text-align: right;\n",
       "    }\n",
       "</style>\n",
       "<table border=\"1\" class=\"dataframe\">\n",
       "  <thead>\n",
       "    <tr>\n",
       "      <th></th>\n",
       "      <th colspan=\"3\" halign=\"left\">0</th>\n",
       "    </tr>\n",
       "    <tr>\n",
       "      <th>class</th>\n",
       "      <th>high</th>\n",
       "      <th>low</th>\n",
       "      <th>medium</th>\n",
       "    </tr>\n",
       "    <tr>\n",
       "      <th>Province</th>\n",
       "      <th></th>\n",
       "      <th></th>\n",
       "      <th></th>\n",
       "    </tr>\n",
       "  </thead>\n",
       "  <tbody>\n",
       "    <tr>\n",
       "      <td>AB</td>\n",
       "      <td>99025.2</td>\n",
       "      <td>86573.8</td>\n",
       "      <td>84167.2</td>\n",
       "    </tr>\n",
       "    <tr>\n",
       "      <td>BC</td>\n",
       "      <td>71526.5</td>\n",
       "      <td>89527.0</td>\n",
       "      <td>67909.9</td>\n",
       "    </tr>\n",
       "    <tr>\n",
       "      <td>MB</td>\n",
       "      <td>69242.6</td>\n",
       "      <td>46299.3</td>\n",
       "      <td>69069.3</td>\n",
       "    </tr>\n",
       "    <tr>\n",
       "      <td>NB</td>\n",
       "      <td>66113.5</td>\n",
       "      <td>48539.0</td>\n",
       "      <td>54605.7</td>\n",
       "    </tr>\n",
       "    <tr>\n",
       "      <td>NL</td>\n",
       "      <td>74676.0</td>\n",
       "      <td>56696.0</td>\n",
       "      <td>69054.3</td>\n",
       "    </tr>\n",
       "    <tr>\n",
       "      <td>NS</td>\n",
       "      <td>67850.9</td>\n",
       "      <td>54562.8</td>\n",
       "      <td>54555.6</td>\n",
       "    </tr>\n",
       "    <tr>\n",
       "      <td>NT</td>\n",
       "      <td>141700.0</td>\n",
       "      <td>84864.0</td>\n",
       "      <td>92037.6</td>\n",
       "    </tr>\n",
       "    <tr>\n",
       "      <td>NU</td>\n",
       "      <td>NaN</td>\n",
       "      <td>77397.0</td>\n",
       "      <td>100787.9</td>\n",
       "    </tr>\n",
       "    <tr>\n",
       "      <td>ON</td>\n",
       "      <td>78038.6</td>\n",
       "      <td>NaN</td>\n",
       "      <td>68615.9</td>\n",
       "    </tr>\n",
       "    <tr>\n",
       "      <td>PE</td>\n",
       "      <td>63770.0</td>\n",
       "      <td>NaN</td>\n",
       "      <td>58084.1</td>\n",
       "    </tr>\n",
       "    <tr>\n",
       "      <td>QC</td>\n",
       "      <td>62344.6</td>\n",
       "      <td>55579.0</td>\n",
       "      <td>59606.3</td>\n",
       "    </tr>\n",
       "    <tr>\n",
       "      <td>SK</td>\n",
       "      <td>82227.2</td>\n",
       "      <td>52685.0</td>\n",
       "      <td>69589.1</td>\n",
       "    </tr>\n",
       "    <tr>\n",
       "      <td>YT</td>\n",
       "      <td>84521.0</td>\n",
       "      <td>NaN</td>\n",
       "      <td>NaN</td>\n",
       "    </tr>\n",
       "  </tbody>\n",
       "</table>\n",
       "</div>"
      ],
      "text/plain": [
       "                 0                   \n",
       "class         high      low    medium\n",
       "Province                             \n",
       "AB         99025.2  86573.8   84167.2\n",
       "BC         71526.5  89527.0   67909.9\n",
       "MB         69242.6  46299.3   69069.3\n",
       "NB         66113.5  48539.0   54605.7\n",
       "NL         74676.0  56696.0   69054.3\n",
       "NS         67850.9  54562.8   54555.6\n",
       "NT        141700.0  84864.0   92037.6\n",
       "NU             NaN  77397.0  100787.9\n",
       "ON         78038.6      NaN   68615.9\n",
       "PE         63770.0      NaN   58084.1\n",
       "QC         62344.6  55579.0   59606.3\n",
       "SK         82227.2  52685.0   69589.1\n",
       "YT         84521.0      NaN       NaN"
      ]
     },
     "execution_count": 36,
     "metadata": {},
     "output_type": "execute_result"
    }
   ],
   "source": [
    "df2 = df\n",
    "# Your code here\n",
    "def high_low_medium(percent):\n",
    "     if percent < 10: \n",
    "        return 'low'\n",
    "     elif percent > 20 :\n",
    "        return 'high'\n",
    "     else:\n",
    "            return 'medium'\n",
    " \n",
    "def wincome(group, avg_name, weight_name):\n",
    " \n",
    "    d = group[avg_name]\n",
    "    w = group[weight_name]\n",
    "    try:\n",
    "        return (d * w).sum()/w.sum()\n",
    "    except ZeroDivisionError:\n",
    "        return 0\n",
    "\n",
    "df2       \n",
    "df2['class'] =  df2[\"CollegeEducated\"].apply(lambda x: high_low_medium(x))\n",
    "df3 = df2.groupby([\"Province\" , \"class\"]).apply(wincome , \"Income\" ,\"Population\")\n",
    "df3 = pd.DataFrame(df3)\n",
    "df3 = df3.round(1)\n",
    "df3 = df3.reset_index()\n",
    "df3.pivot(index = \"Province\" , columns = \"class\")"
   ]
  },
  {
   "cell_type": "code",
   "execution_count": 37,
   "metadata": {},
   "outputs": [],
   "source": [
    "import pandas as pd"
   ]
  },
  {
   "cell_type": "markdown",
   "metadata": {},
   "source": [
    "## Quesiton 2: WEO debt and deficits \n",
    "\n",
    "We see one of the examples from this data set in a previous homework. The problem in this example is that variables run across rows, rather than down columns.  Our **want** is to flip some of the rows and columns so that we can plot the data against time.  The question is how.\n",
    "\n",
    "We use a small subset of the IMF's [World Economic Outlook database](https://www.imf.org/external/ns/cs.aspx?id=28) that contains two variables and three countries.  "
   ]
  },
  {
   "cell_type": "code",
   "execution_count": 38,
   "metadata": {},
   "outputs": [],
   "source": [
    "weo = pd.read_csv(\"https://raw.githubusercontent.com/BUSN32100/data_files/master/WEO.csv\")"
   ]
  },
  {
   "cell_type": "markdown",
   "metadata": {},
   "source": [
    "### question 2a:\n",
    "\n",
    "Use `df.set_index()` to push all the descriptive, non-numerical columns into the index, leaving the dataframe itself with only numbers\n"
   ]
  },
  {
   "cell_type": "code",
   "execution_count": 39,
   "metadata": {},
   "outputs": [
    {
     "data": {
      "text/html": [
       "<div>\n",
       "<style scoped>\n",
       "    .dataframe tbody tr th:only-of-type {\n",
       "        vertical-align: middle;\n",
       "    }\n",
       "\n",
       "    .dataframe tbody tr th {\n",
       "        vertical-align: top;\n",
       "    }\n",
       "\n",
       "    .dataframe thead th {\n",
       "        text-align: right;\n",
       "    }\n",
       "</style>\n",
       "<table border=\"1\" class=\"dataframe\">\n",
       "  <thead>\n",
       "    <tr style=\"text-align: right;\">\n",
       "      <th></th>\n",
       "      <th>ISO</th>\n",
       "      <th>Variable</th>\n",
       "      <th>Country</th>\n",
       "      <th>Description</th>\n",
       "      <th>Units</th>\n",
       "      <th>1980</th>\n",
       "      <th>1981</th>\n",
       "      <th>1982</th>\n",
       "      <th>1983</th>\n",
       "      <th>1984</th>\n",
       "      <th>...</th>\n",
       "      <th>2007</th>\n",
       "      <th>2008</th>\n",
       "      <th>2009</th>\n",
       "      <th>2010</th>\n",
       "      <th>2011</th>\n",
       "      <th>2012</th>\n",
       "      <th>2013</th>\n",
       "      <th>2014</th>\n",
       "      <th>2015</th>\n",
       "      <th>2016</th>\n",
       "    </tr>\n",
       "  </thead>\n",
       "  <tbody>\n",
       "    <tr>\n",
       "      <td>0</td>\n",
       "      <td>ARG</td>\n",
       "      <td>Surplus</td>\n",
       "      <td>Argentina</td>\n",
       "      <td>General government net lending/borrowing</td>\n",
       "      <td>Percent of GDP</td>\n",
       "      <td>NaN</td>\n",
       "      <td>NaN</td>\n",
       "      <td>NaN</td>\n",
       "      <td>NaN</td>\n",
       "      <td>NaN</td>\n",
       "      <td>...</td>\n",
       "      <td>-0.056</td>\n",
       "      <td>0.242</td>\n",
       "      <td>-2.434</td>\n",
       "      <td>-1.272</td>\n",
       "      <td>-2.552</td>\n",
       "      <td>-2.802</td>\n",
       "      <td>-3.001</td>\n",
       "      <td>-3.990</td>\n",
       "      <td>-6.630</td>\n",
       "      <td>-7.123</td>\n",
       "    </tr>\n",
       "    <tr>\n",
       "      <td>1</td>\n",
       "      <td>ARG</td>\n",
       "      <td>Debt</td>\n",
       "      <td>Argentina</td>\n",
       "      <td>General government gross debt</td>\n",
       "      <td>Percent of GDP</td>\n",
       "      <td>NaN</td>\n",
       "      <td>NaN</td>\n",
       "      <td>NaN</td>\n",
       "      <td>NaN</td>\n",
       "      <td>NaN</td>\n",
       "      <td>...</td>\n",
       "      <td>50.842</td>\n",
       "      <td>43.853</td>\n",
       "      <td>53.828</td>\n",
       "      <td>42.624</td>\n",
       "      <td>38.063</td>\n",
       "      <td>39.434</td>\n",
       "      <td>42.195</td>\n",
       "      <td>43.587</td>\n",
       "      <td>52.131</td>\n",
       "      <td>51.751</td>\n",
       "    </tr>\n",
       "    <tr>\n",
       "      <td>2</td>\n",
       "      <td>DEU</td>\n",
       "      <td>Surplus</td>\n",
       "      <td>Germany</td>\n",
       "      <td>General government net lending/borrowing</td>\n",
       "      <td>Percent of GDP</td>\n",
       "      <td>NaN</td>\n",
       "      <td>NaN</td>\n",
       "      <td>NaN</td>\n",
       "      <td>NaN</td>\n",
       "      <td>NaN</td>\n",
       "      <td>...</td>\n",
       "      <td>0.187</td>\n",
       "      <td>-0.177</td>\n",
       "      <td>-3.235</td>\n",
       "      <td>-4.221</td>\n",
       "      <td>-0.957</td>\n",
       "      <td>-0.050</td>\n",
       "      <td>-0.203</td>\n",
       "      <td>0.278</td>\n",
       "      <td>0.745</td>\n",
       "      <td>0.129</td>\n",
       "    </tr>\n",
       "    <tr>\n",
       "      <td>3</td>\n",
       "      <td>DEU</td>\n",
       "      <td>Debt</td>\n",
       "      <td>Germany</td>\n",
       "      <td>General government gross debt</td>\n",
       "      <td>Percent of GDP</td>\n",
       "      <td>NaN</td>\n",
       "      <td>NaN</td>\n",
       "      <td>NaN</td>\n",
       "      <td>NaN</td>\n",
       "      <td>NaN</td>\n",
       "      <td>...</td>\n",
       "      <td>63.542</td>\n",
       "      <td>64.926</td>\n",
       "      <td>72.430</td>\n",
       "      <td>81.004</td>\n",
       "      <td>78.311</td>\n",
       "      <td>79.516</td>\n",
       "      <td>77.058</td>\n",
       "      <td>74.480</td>\n",
       "      <td>70.988</td>\n",
       "      <td>68.169</td>\n",
       "    </tr>\n",
       "    <tr>\n",
       "      <td>4</td>\n",
       "      <td>GRC</td>\n",
       "      <td>Surplus</td>\n",
       "      <td>Greece</td>\n",
       "      <td>General government net lending/borrowing</td>\n",
       "      <td>Percent of GDP</td>\n",
       "      <td>-2.774</td>\n",
       "      <td>-7.847</td>\n",
       "      <td>-6.092</td>\n",
       "      <td>-6.847</td>\n",
       "      <td>-7.976</td>\n",
       "      <td>...</td>\n",
       "      <td>-6.707</td>\n",
       "      <td>-10.168</td>\n",
       "      <td>-15.152</td>\n",
       "      <td>-11.208</td>\n",
       "      <td>-10.243</td>\n",
       "      <td>-6.506</td>\n",
       "      <td>-3.531</td>\n",
       "      <td>-4.054</td>\n",
       "      <td>-3.080</td>\n",
       "      <td>-3.359</td>\n",
       "    </tr>\n",
       "    <tr>\n",
       "      <td>5</td>\n",
       "      <td>GRC</td>\n",
       "      <td>Debt</td>\n",
       "      <td>Greece</td>\n",
       "      <td>General government gross debt</td>\n",
       "      <td>Percent of GDP</td>\n",
       "      <td>22.526</td>\n",
       "      <td>26.681</td>\n",
       "      <td>29.310</td>\n",
       "      <td>33.591</td>\n",
       "      <td>40.061</td>\n",
       "      <td>...</td>\n",
       "      <td>103.103</td>\n",
       "      <td>109.416</td>\n",
       "      <td>126.745</td>\n",
       "      <td>146.250</td>\n",
       "      <td>172.096</td>\n",
       "      <td>159.565</td>\n",
       "      <td>177.677</td>\n",
       "      <td>180.063</td>\n",
       "      <td>176.938</td>\n",
       "      <td>183.436</td>\n",
       "    </tr>\n",
       "  </tbody>\n",
       "</table>\n",
       "<p>6 rows × 42 columns</p>\n",
       "</div>"
      ],
      "text/plain": [
       "   ISO Variable    Country                               Description  \\\n",
       "0  ARG  Surplus  Argentina  General government net lending/borrowing   \n",
       "1  ARG     Debt  Argentina             General government gross debt   \n",
       "2  DEU  Surplus    Germany  General government net lending/borrowing   \n",
       "3  DEU     Debt    Germany             General government gross debt   \n",
       "4  GRC  Surplus     Greece  General government net lending/borrowing   \n",
       "5  GRC     Debt     Greece             General government gross debt   \n",
       "\n",
       "            Units    1980    1981    1982    1983    1984  ...     2007  \\\n",
       "0  Percent of GDP     NaN     NaN     NaN     NaN     NaN  ...   -0.056   \n",
       "1  Percent of GDP     NaN     NaN     NaN     NaN     NaN  ...   50.842   \n",
       "2  Percent of GDP     NaN     NaN     NaN     NaN     NaN  ...    0.187   \n",
       "3  Percent of GDP     NaN     NaN     NaN     NaN     NaN  ...   63.542   \n",
       "4  Percent of GDP  -2.774  -7.847  -6.092  -6.847  -7.976  ...   -6.707   \n",
       "5  Percent of GDP  22.526  26.681  29.310  33.591  40.061  ...  103.103   \n",
       "\n",
       "      2008     2009     2010     2011     2012     2013     2014     2015  \\\n",
       "0    0.242   -2.434   -1.272   -2.552   -2.802   -3.001   -3.990   -6.630   \n",
       "1   43.853   53.828   42.624   38.063   39.434   42.195   43.587   52.131   \n",
       "2   -0.177   -3.235   -4.221   -0.957   -0.050   -0.203    0.278    0.745   \n",
       "3   64.926   72.430   81.004   78.311   79.516   77.058   74.480   70.988   \n",
       "4  -10.168  -15.152  -11.208  -10.243   -6.506   -3.531   -4.054   -3.080   \n",
       "5  109.416  126.745  146.250  172.096  159.565  177.677  180.063  176.938   \n",
       "\n",
       "      2016  \n",
       "0   -7.123  \n",
       "1   51.751  \n",
       "2    0.129  \n",
       "3   68.169  \n",
       "4   -3.359  \n",
       "5  183.436  \n",
       "\n",
       "[6 rows x 42 columns]"
      ]
     },
     "execution_count": 39,
     "metadata": {},
     "output_type": "execute_result"
    }
   ],
   "source": [
    "weo"
   ]
  },
  {
   "cell_type": "code",
   "execution_count": 40,
   "metadata": {},
   "outputs": [],
   "source": [
    "weo = weo.set_index( [\"ISO\", \"Variable\" , \"Country\",\"Description\" ,\"Units\" ])"
   ]
  },
  {
   "cell_type": "markdown",
   "metadata": {},
   "source": [
    "### question 2b:\n",
    "\n",
    "1. the `reset_index` method to move the `Units` level of the index to a column of the dataframe.\n",
    "1. Use the `drop` parameter of `reset_index` to delete `Units` from the dataframe.  "
   ]
  },
  {
   "cell_type": "code",
   "execution_count": 41,
   "metadata": {},
   "outputs": [],
   "source": [
    "weo = weo.reset_index([\"Units\"] , drop = True)"
   ]
  },
  {
   "cell_type": "code",
   "execution_count": 42,
   "metadata": {},
   "outputs": [
    {
     "data": {
      "text/html": [
       "<div>\n",
       "<style scoped>\n",
       "    .dataframe tbody tr th:only-of-type {\n",
       "        vertical-align: middle;\n",
       "    }\n",
       "\n",
       "    .dataframe tbody tr th {\n",
       "        vertical-align: top;\n",
       "    }\n",
       "\n",
       "    .dataframe thead th {\n",
       "        text-align: right;\n",
       "    }\n",
       "</style>\n",
       "<table border=\"1\" class=\"dataframe\">\n",
       "  <thead>\n",
       "    <tr style=\"text-align: right;\">\n",
       "      <th></th>\n",
       "      <th></th>\n",
       "      <th></th>\n",
       "      <th></th>\n",
       "      <th>1980</th>\n",
       "      <th>1981</th>\n",
       "      <th>1982</th>\n",
       "      <th>1983</th>\n",
       "      <th>1984</th>\n",
       "      <th>1985</th>\n",
       "      <th>1986</th>\n",
       "      <th>1987</th>\n",
       "      <th>1988</th>\n",
       "      <th>1989</th>\n",
       "      <th>...</th>\n",
       "      <th>2007</th>\n",
       "      <th>2008</th>\n",
       "      <th>2009</th>\n",
       "      <th>2010</th>\n",
       "      <th>2011</th>\n",
       "      <th>2012</th>\n",
       "      <th>2013</th>\n",
       "      <th>2014</th>\n",
       "      <th>2015</th>\n",
       "      <th>2016</th>\n",
       "    </tr>\n",
       "    <tr>\n",
       "      <th>ISO</th>\n",
       "      <th>Variable</th>\n",
       "      <th>Country</th>\n",
       "      <th>Description</th>\n",
       "      <th></th>\n",
       "      <th></th>\n",
       "      <th></th>\n",
       "      <th></th>\n",
       "      <th></th>\n",
       "      <th></th>\n",
       "      <th></th>\n",
       "      <th></th>\n",
       "      <th></th>\n",
       "      <th></th>\n",
       "      <th></th>\n",
       "      <th></th>\n",
       "      <th></th>\n",
       "      <th></th>\n",
       "      <th></th>\n",
       "      <th></th>\n",
       "      <th></th>\n",
       "      <th></th>\n",
       "      <th></th>\n",
       "      <th></th>\n",
       "      <th></th>\n",
       "    </tr>\n",
       "  </thead>\n",
       "  <tbody>\n",
       "    <tr>\n",
       "      <td rowspan=\"2\" valign=\"top\">ARG</td>\n",
       "      <td>Surplus</td>\n",
       "      <td>Argentina</td>\n",
       "      <td>General government net lending/borrowing</td>\n",
       "      <td>NaN</td>\n",
       "      <td>NaN</td>\n",
       "      <td>NaN</td>\n",
       "      <td>NaN</td>\n",
       "      <td>NaN</td>\n",
       "      <td>NaN</td>\n",
       "      <td>NaN</td>\n",
       "      <td>NaN</td>\n",
       "      <td>NaN</td>\n",
       "      <td>NaN</td>\n",
       "      <td>...</td>\n",
       "      <td>-0.056</td>\n",
       "      <td>0.242</td>\n",
       "      <td>-2.434</td>\n",
       "      <td>-1.272</td>\n",
       "      <td>-2.552</td>\n",
       "      <td>-2.802</td>\n",
       "      <td>-3.001</td>\n",
       "      <td>-3.990</td>\n",
       "      <td>-6.630</td>\n",
       "      <td>-7.123</td>\n",
       "    </tr>\n",
       "    <tr>\n",
       "      <td>Debt</td>\n",
       "      <td>Argentina</td>\n",
       "      <td>General government gross debt</td>\n",
       "      <td>NaN</td>\n",
       "      <td>NaN</td>\n",
       "      <td>NaN</td>\n",
       "      <td>NaN</td>\n",
       "      <td>NaN</td>\n",
       "      <td>NaN</td>\n",
       "      <td>NaN</td>\n",
       "      <td>NaN</td>\n",
       "      <td>NaN</td>\n",
       "      <td>NaN</td>\n",
       "      <td>...</td>\n",
       "      <td>50.842</td>\n",
       "      <td>43.853</td>\n",
       "      <td>53.828</td>\n",
       "      <td>42.624</td>\n",
       "      <td>38.063</td>\n",
       "      <td>39.434</td>\n",
       "      <td>42.195</td>\n",
       "      <td>43.587</td>\n",
       "      <td>52.131</td>\n",
       "      <td>51.751</td>\n",
       "    </tr>\n",
       "    <tr>\n",
       "      <td rowspan=\"2\" valign=\"top\">DEU</td>\n",
       "      <td>Surplus</td>\n",
       "      <td>Germany</td>\n",
       "      <td>General government net lending/borrowing</td>\n",
       "      <td>NaN</td>\n",
       "      <td>NaN</td>\n",
       "      <td>NaN</td>\n",
       "      <td>NaN</td>\n",
       "      <td>NaN</td>\n",
       "      <td>NaN</td>\n",
       "      <td>NaN</td>\n",
       "      <td>NaN</td>\n",
       "      <td>NaN</td>\n",
       "      <td>NaN</td>\n",
       "      <td>...</td>\n",
       "      <td>0.187</td>\n",
       "      <td>-0.177</td>\n",
       "      <td>-3.235</td>\n",
       "      <td>-4.221</td>\n",
       "      <td>-0.957</td>\n",
       "      <td>-0.050</td>\n",
       "      <td>-0.203</td>\n",
       "      <td>0.278</td>\n",
       "      <td>0.745</td>\n",
       "      <td>0.129</td>\n",
       "    </tr>\n",
       "    <tr>\n",
       "      <td>Debt</td>\n",
       "      <td>Germany</td>\n",
       "      <td>General government gross debt</td>\n",
       "      <td>NaN</td>\n",
       "      <td>NaN</td>\n",
       "      <td>NaN</td>\n",
       "      <td>NaN</td>\n",
       "      <td>NaN</td>\n",
       "      <td>NaN</td>\n",
       "      <td>NaN</td>\n",
       "      <td>NaN</td>\n",
       "      <td>NaN</td>\n",
       "      <td>NaN</td>\n",
       "      <td>...</td>\n",
       "      <td>63.542</td>\n",
       "      <td>64.926</td>\n",
       "      <td>72.430</td>\n",
       "      <td>81.004</td>\n",
       "      <td>78.311</td>\n",
       "      <td>79.516</td>\n",
       "      <td>77.058</td>\n",
       "      <td>74.480</td>\n",
       "      <td>70.988</td>\n",
       "      <td>68.169</td>\n",
       "    </tr>\n",
       "    <tr>\n",
       "      <td rowspan=\"2\" valign=\"top\">GRC</td>\n",
       "      <td>Surplus</td>\n",
       "      <td>Greece</td>\n",
       "      <td>General government net lending/borrowing</td>\n",
       "      <td>-2.774</td>\n",
       "      <td>-7.847</td>\n",
       "      <td>-6.092</td>\n",
       "      <td>-6.847</td>\n",
       "      <td>-7.976</td>\n",
       "      <td>-10.603</td>\n",
       "      <td>-9.559</td>\n",
       "      <td>-8.972</td>\n",
       "      <td>-10.675</td>\n",
       "      <td>-13.195</td>\n",
       "      <td>...</td>\n",
       "      <td>-6.707</td>\n",
       "      <td>-10.168</td>\n",
       "      <td>-15.152</td>\n",
       "      <td>-11.208</td>\n",
       "      <td>-10.243</td>\n",
       "      <td>-6.506</td>\n",
       "      <td>-3.531</td>\n",
       "      <td>-4.054</td>\n",
       "      <td>-3.080</td>\n",
       "      <td>-3.359</td>\n",
       "    </tr>\n",
       "    <tr>\n",
       "      <td>Debt</td>\n",
       "      <td>Greece</td>\n",
       "      <td>General government gross debt</td>\n",
       "      <td>22.526</td>\n",
       "      <td>26.681</td>\n",
       "      <td>29.310</td>\n",
       "      <td>33.591</td>\n",
       "      <td>40.061</td>\n",
       "      <td>46.621</td>\n",
       "      <td>47.142</td>\n",
       "      <td>52.413</td>\n",
       "      <td>57.069</td>\n",
       "      <td>59.821</td>\n",
       "      <td>...</td>\n",
       "      <td>103.103</td>\n",
       "      <td>109.416</td>\n",
       "      <td>126.745</td>\n",
       "      <td>146.250</td>\n",
       "      <td>172.096</td>\n",
       "      <td>159.565</td>\n",
       "      <td>177.677</td>\n",
       "      <td>180.063</td>\n",
       "      <td>176.938</td>\n",
       "      <td>183.436</td>\n",
       "    </tr>\n",
       "  </tbody>\n",
       "</table>\n",
       "<p>6 rows × 37 columns</p>\n",
       "</div>"
      ],
      "text/plain": [
       "                                                                   1980  \\\n",
       "ISO Variable Country   Description                                        \n",
       "ARG Surplus  Argentina General government net lending/borrowing     NaN   \n",
       "    Debt     Argentina General government gross debt                NaN   \n",
       "DEU Surplus  Germany   General government net lending/borrowing     NaN   \n",
       "    Debt     Germany   General government gross debt                NaN   \n",
       "GRC Surplus  Greece    General government net lending/borrowing  -2.774   \n",
       "    Debt     Greece    General government gross debt             22.526   \n",
       "\n",
       "                                                                   1981  \\\n",
       "ISO Variable Country   Description                                        \n",
       "ARG Surplus  Argentina General government net lending/borrowing     NaN   \n",
       "    Debt     Argentina General government gross debt                NaN   \n",
       "DEU Surplus  Germany   General government net lending/borrowing     NaN   \n",
       "    Debt     Germany   General government gross debt                NaN   \n",
       "GRC Surplus  Greece    General government net lending/borrowing  -7.847   \n",
       "    Debt     Greece    General government gross debt             26.681   \n",
       "\n",
       "                                                                   1982  \\\n",
       "ISO Variable Country   Description                                        \n",
       "ARG Surplus  Argentina General government net lending/borrowing     NaN   \n",
       "    Debt     Argentina General government gross debt                NaN   \n",
       "DEU Surplus  Germany   General government net lending/borrowing     NaN   \n",
       "    Debt     Germany   General government gross debt                NaN   \n",
       "GRC Surplus  Greece    General government net lending/borrowing  -6.092   \n",
       "    Debt     Greece    General government gross debt             29.310   \n",
       "\n",
       "                                                                   1983  \\\n",
       "ISO Variable Country   Description                                        \n",
       "ARG Surplus  Argentina General government net lending/borrowing     NaN   \n",
       "    Debt     Argentina General government gross debt                NaN   \n",
       "DEU Surplus  Germany   General government net lending/borrowing     NaN   \n",
       "    Debt     Germany   General government gross debt                NaN   \n",
       "GRC Surplus  Greece    General government net lending/borrowing  -6.847   \n",
       "    Debt     Greece    General government gross debt             33.591   \n",
       "\n",
       "                                                                   1984  \\\n",
       "ISO Variable Country   Description                                        \n",
       "ARG Surplus  Argentina General government net lending/borrowing     NaN   \n",
       "    Debt     Argentina General government gross debt                NaN   \n",
       "DEU Surplus  Germany   General government net lending/borrowing     NaN   \n",
       "    Debt     Germany   General government gross debt                NaN   \n",
       "GRC Surplus  Greece    General government net lending/borrowing  -7.976   \n",
       "    Debt     Greece    General government gross debt             40.061   \n",
       "\n",
       "                                                                   1985  \\\n",
       "ISO Variable Country   Description                                        \n",
       "ARG Surplus  Argentina General government net lending/borrowing     NaN   \n",
       "    Debt     Argentina General government gross debt                NaN   \n",
       "DEU Surplus  Germany   General government net lending/borrowing     NaN   \n",
       "    Debt     Germany   General government gross debt                NaN   \n",
       "GRC Surplus  Greece    General government net lending/borrowing -10.603   \n",
       "    Debt     Greece    General government gross debt             46.621   \n",
       "\n",
       "                                                                   1986  \\\n",
       "ISO Variable Country   Description                                        \n",
       "ARG Surplus  Argentina General government net lending/borrowing     NaN   \n",
       "    Debt     Argentina General government gross debt                NaN   \n",
       "DEU Surplus  Germany   General government net lending/borrowing     NaN   \n",
       "    Debt     Germany   General government gross debt                NaN   \n",
       "GRC Surplus  Greece    General government net lending/borrowing  -9.559   \n",
       "    Debt     Greece    General government gross debt             47.142   \n",
       "\n",
       "                                                                   1987  \\\n",
       "ISO Variable Country   Description                                        \n",
       "ARG Surplus  Argentina General government net lending/borrowing     NaN   \n",
       "    Debt     Argentina General government gross debt                NaN   \n",
       "DEU Surplus  Germany   General government net lending/borrowing     NaN   \n",
       "    Debt     Germany   General government gross debt                NaN   \n",
       "GRC Surplus  Greece    General government net lending/borrowing  -8.972   \n",
       "    Debt     Greece    General government gross debt             52.413   \n",
       "\n",
       "                                                                   1988  \\\n",
       "ISO Variable Country   Description                                        \n",
       "ARG Surplus  Argentina General government net lending/borrowing     NaN   \n",
       "    Debt     Argentina General government gross debt                NaN   \n",
       "DEU Surplus  Germany   General government net lending/borrowing     NaN   \n",
       "    Debt     Germany   General government gross debt                NaN   \n",
       "GRC Surplus  Greece    General government net lending/borrowing -10.675   \n",
       "    Debt     Greece    General government gross debt             57.069   \n",
       "\n",
       "                                                                   1989  ...  \\\n",
       "ISO Variable Country   Description                                       ...   \n",
       "ARG Surplus  Argentina General government net lending/borrowing     NaN  ...   \n",
       "    Debt     Argentina General government gross debt                NaN  ...   \n",
       "DEU Surplus  Germany   General government net lending/borrowing     NaN  ...   \n",
       "    Debt     Germany   General government gross debt                NaN  ...   \n",
       "GRC Surplus  Greece    General government net lending/borrowing -13.195  ...   \n",
       "    Debt     Greece    General government gross debt             59.821  ...   \n",
       "\n",
       "                                                                    2007  \\\n",
       "ISO Variable Country   Description                                         \n",
       "ARG Surplus  Argentina General government net lending/borrowing   -0.056   \n",
       "    Debt     Argentina General government gross debt              50.842   \n",
       "DEU Surplus  Germany   General government net lending/borrowing    0.187   \n",
       "    Debt     Germany   General government gross debt              63.542   \n",
       "GRC Surplus  Greece    General government net lending/borrowing   -6.707   \n",
       "    Debt     Greece    General government gross debt             103.103   \n",
       "\n",
       "                                                                    2008  \\\n",
       "ISO Variable Country   Description                                         \n",
       "ARG Surplus  Argentina General government net lending/borrowing    0.242   \n",
       "    Debt     Argentina General government gross debt              43.853   \n",
       "DEU Surplus  Germany   General government net lending/borrowing   -0.177   \n",
       "    Debt     Germany   General government gross debt              64.926   \n",
       "GRC Surplus  Greece    General government net lending/borrowing  -10.168   \n",
       "    Debt     Greece    General government gross debt             109.416   \n",
       "\n",
       "                                                                    2009  \\\n",
       "ISO Variable Country   Description                                         \n",
       "ARG Surplus  Argentina General government net lending/borrowing   -2.434   \n",
       "    Debt     Argentina General government gross debt              53.828   \n",
       "DEU Surplus  Germany   General government net lending/borrowing   -3.235   \n",
       "    Debt     Germany   General government gross debt              72.430   \n",
       "GRC Surplus  Greece    General government net lending/borrowing  -15.152   \n",
       "    Debt     Greece    General government gross debt             126.745   \n",
       "\n",
       "                                                                    2010  \\\n",
       "ISO Variable Country   Description                                         \n",
       "ARG Surplus  Argentina General government net lending/borrowing   -1.272   \n",
       "    Debt     Argentina General government gross debt              42.624   \n",
       "DEU Surplus  Germany   General government net lending/borrowing   -4.221   \n",
       "    Debt     Germany   General government gross debt              81.004   \n",
       "GRC Surplus  Greece    General government net lending/borrowing  -11.208   \n",
       "    Debt     Greece    General government gross debt             146.250   \n",
       "\n",
       "                                                                    2011  \\\n",
       "ISO Variable Country   Description                                         \n",
       "ARG Surplus  Argentina General government net lending/borrowing   -2.552   \n",
       "    Debt     Argentina General government gross debt              38.063   \n",
       "DEU Surplus  Germany   General government net lending/borrowing   -0.957   \n",
       "    Debt     Germany   General government gross debt              78.311   \n",
       "GRC Surplus  Greece    General government net lending/borrowing  -10.243   \n",
       "    Debt     Greece    General government gross debt             172.096   \n",
       "\n",
       "                                                                    2012  \\\n",
       "ISO Variable Country   Description                                         \n",
       "ARG Surplus  Argentina General government net lending/borrowing   -2.802   \n",
       "    Debt     Argentina General government gross debt              39.434   \n",
       "DEU Surplus  Germany   General government net lending/borrowing   -0.050   \n",
       "    Debt     Germany   General government gross debt              79.516   \n",
       "GRC Surplus  Greece    General government net lending/borrowing   -6.506   \n",
       "    Debt     Greece    General government gross debt             159.565   \n",
       "\n",
       "                                                                    2013  \\\n",
       "ISO Variable Country   Description                                         \n",
       "ARG Surplus  Argentina General government net lending/borrowing   -3.001   \n",
       "    Debt     Argentina General government gross debt              42.195   \n",
       "DEU Surplus  Germany   General government net lending/borrowing   -0.203   \n",
       "    Debt     Germany   General government gross debt              77.058   \n",
       "GRC Surplus  Greece    General government net lending/borrowing   -3.531   \n",
       "    Debt     Greece    General government gross debt             177.677   \n",
       "\n",
       "                                                                    2014  \\\n",
       "ISO Variable Country   Description                                         \n",
       "ARG Surplus  Argentina General government net lending/borrowing   -3.990   \n",
       "    Debt     Argentina General government gross debt              43.587   \n",
       "DEU Surplus  Germany   General government net lending/borrowing    0.278   \n",
       "    Debt     Germany   General government gross debt              74.480   \n",
       "GRC Surplus  Greece    General government net lending/borrowing   -4.054   \n",
       "    Debt     Greece    General government gross debt             180.063   \n",
       "\n",
       "                                                                    2015  \\\n",
       "ISO Variable Country   Description                                         \n",
       "ARG Surplus  Argentina General government net lending/borrowing   -6.630   \n",
       "    Debt     Argentina General government gross debt              52.131   \n",
       "DEU Surplus  Germany   General government net lending/borrowing    0.745   \n",
       "    Debt     Germany   General government gross debt              70.988   \n",
       "GRC Surplus  Greece    General government net lending/borrowing   -3.080   \n",
       "    Debt     Greece    General government gross debt             176.938   \n",
       "\n",
       "                                                                    2016  \n",
       "ISO Variable Country   Description                                        \n",
       "ARG Surplus  Argentina General government net lending/borrowing   -7.123  \n",
       "    Debt     Argentina General government gross debt              51.751  \n",
       "DEU Surplus  Germany   General government net lending/borrowing    0.129  \n",
       "    Debt     Germany   General government gross debt              68.169  \n",
       "GRC Surplus  Greece    General government net lending/borrowing   -3.359  \n",
       "    Debt     Greece    General government gross debt             183.436  \n",
       "\n",
       "[6 rows x 37 columns]"
      ]
     },
     "execution_count": 42,
     "metadata": {},
     "output_type": "execute_result"
    }
   ],
   "source": [
    "\n",
    "weo"
   ]
  },
  {
   "cell_type": "markdown",
   "metadata": {},
   "source": [
    "### Question 2c:\n",
    "\n",
    "1. Transpose the data frame \n",
    "1. Construct a line plot of `Debt` over time with one line for each country.  \n",
    "\n",
    "Hint:  You will need to plot with ax = df.plot() in order to set the legend"
   ]
  },
  {
   "cell_type": "code",
   "execution_count": 43,
   "metadata": {},
   "outputs": [],
   "source": [
    "weo = weo.T"
   ]
  },
  {
   "cell_type": "code",
   "execution_count": 44,
   "metadata": {},
   "outputs": [
    {
     "data": {
      "text/plain": [
       "<matplotlib.axes._subplots.AxesSubplot at 0x11e211c10>"
      ]
     },
     "execution_count": 44,
     "metadata": {},
     "output_type": "execute_result"
    },
    {
     "data": {
      "image/png": "[encoded data removed]",
      "text/plain": [
       "<Figure size 360x720 with 1 Axes>"
      ]
     },
     "metadata": {
      "needs_background": "light"
     },
     "output_type": "display_data"
    }
   ],
   "source": [
    "import pandas as pd\n",
    "\n",
    "weo.loc(axis=1)[ :, 'Debt', :, :].plot(kind='line', figsize=(5,10))\n",
    "\n",
    "#df = weo.loc[[:],[\"Debt\"],[:],[]:]]\n",
    "#weo[weo.index[\"Variable\" = \"Debt\"]].plot(kind='line', figsize=(5,10))"
   ]
  },
  {
   "cell_type": "markdown",
   "metadata": {},
   "source": [
    "#### "
   ]
  },
  {
   "cell_type": "markdown",
   "metadata": {},
   "source": [
    "### Question 2d:\n",
    "\n",
    "1. Swap the `Country` to be the outer most column level using `df.swaplevel(0, 1, axis=1)`\n",
    "1. Construct another line plot of Argentina for both Debt and Surplus\n",
    "1. Shorten the legend with `ax.legend` to just the Variable name\n"
   ]
  },
  {
   "cell_type": "code",
   "execution_count": 45,
   "metadata": {},
   "outputs": [
    {
     "data": {
      "text/plain": [
       "<matplotlib.legend.Legend at 0x11e369610>"
      ]
     },
     "execution_count": 45,
     "metadata": {},
     "output_type": "execute_result"
    },
    {
     "data": {
      "image/png": "[encoded data removed]",
      "text/plain": [
       "<Figure size 360x720 with 1 Axes>"
      ]
     },
     "metadata": {
      "needs_background": "light"
     },
     "output_type": "display_data"
    }
   ],
   "source": [
    "df = weo.loc(axis=1)[ :, :, :, :]\n",
    "df = df.swaplevel(0, 2, axis=1)\n",
    "ax = df.loc(axis=1)[ 'Argentina', :, :, :].plot(kind='line', figsize=(5,10))\n",
    "ax.legend([ 'Surplus for Argentina' ,'Debt for Argentina'])"
   ]
  },
  {
   "cell_type": "code",
   "execution_count": null,
   "metadata": {},
   "outputs": [],
   "source": []
  }
 ],
 "metadata": {
  "kernelspec": {
   "display_name": "Python 3",
   "language": "python",
   "name": "python3"
  },
  "language_info": {
   "codemirror_mode": {
    "name": "ipython",
    "version": 3
   },
   "file_extension": ".py",
   "mimetype": "text/x-python",
   "name": "python",
   "nbconvert_exporter": "python",
   "pygments_lexer": "ipython3",
   "version": "3.7.4"
  }
 },
 "nbformat": 4,
 "nbformat_minor": 4
}
